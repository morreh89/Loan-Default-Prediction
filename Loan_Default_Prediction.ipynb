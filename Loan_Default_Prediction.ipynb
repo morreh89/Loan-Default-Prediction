{
  "nbformat": 4,
  "nbformat_minor": 0,
  "metadata": {
    "colab": {
      "name": "Loan-Default-Prediction",
      "provenance": [],
      "collapsed_sections": [],
      "toc_visible": true,
      "include_colab_link": true
    },
    "kernelspec": {
      "name": "python3",
      "display_name": "Python 3"
    }
  },
  "cells": [
    {
      "cell_type": "markdown",
      "metadata": {
        "id": "view-in-github",
        "colab_type": "text"
      },
      "source": [
        "<a href=\"https://colab.research.google.com/github/morreh89/Loan-Default-Prediction/blob/master/Loan_Default_Prediction.ipynb\" target=\"_parent\"><img src=\"https://colab.research.google.com/assets/colab-badge.svg\" alt=\"Open In Colab\"/></a>"
      ]
    },
    {
      "cell_type": "markdown",
      "metadata": {
        "id": "oeEeqpKYj4tm",
        "colab_type": "text"
      },
      "source": [
        "## **Challenge:**\n",
        "\n",
        "SuperLender is a local digital lending company, which prides itself in its effective use of credit risk models to deliver profitable and high-impact loan alternative. Its assessment approach is based on two main risk drivers of loan default prediction:.\n",
        "\n",
        "1) willingness to pay and\n",
        "\n",
        "2) ability to pay. \n",
        "\n",
        "Since not all customers pay back, the company invests in experienced data scientist to build robust models to effectively predict the odds of repayment.\n",
        "These two fundamental drivers need to be determined at the point of each application to allow the credit grantor to make a calculated decision based on repayment odds, which in turn determines if an applicant should get a loan, and if so - what the size, price and tenure of the offer will be.\n",
        "\n",
        "There are two types of risk models in general: New business risk, which would be used to assess the risk of application(s) associated with the first loan that he/she applies. The second is a repeat or behaviour risk model, in which case the customer has been a client and applies for a repeat loan. In the latter case - we will have additional performance on how he/she repaid their prior loans, which we can incorporate into our risk model.\n",
        "\n",
        "It is your job to predict if a loan was good or bad, i.e. accurately predict binary outcome variable, where Good is 1 and Bad is 0."
      ]
    },
    {
      "cell_type": "markdown",
      "metadata": {
        "id": "OVq-7jAhkPtx",
        "colab_type": "text"
      },
      "source": [
        "**1.1 Problem**\n",
        "\n",
        "The objective is to use historical financial and socioeconomic data to predict whether or not an applicant will be able to repay a loan. \n"
      ]
    },
    {
      "cell_type": "markdown",
      "metadata": {
        "id": "NDY9clHdkyFy",
        "colab_type": "text"
      },
      "source": [
        "**Description of the data**\n",
        "\n",
        "There are 3 different datasets for both train and test\n",
        "\n",
        "**Demographic data (traindemographics.csv)**\n",
        "\n",
        "- customerid (Primary key used to merge to other data)\n",
        "- birthdate (date of birth of the customer)\n",
        "- bank_account_type (type of primary bank account)\n",
        "- longitude_gps\n",
        "- latitude_gps\n",
        "- bank_name_clients (name of the bank)\n",
        "- bank_branch_clients (location of the branch - not -  compulsory - so missing in a lot of the cases)\n",
        "- employment_status_clients (type of employment that customer has)\n",
        "- level_of_education_clients (highest level of education)\n",
        "\n",
        "\n",
        "\n",
        "**Performance data (trainperf.csv)** \n",
        "\n",
        "This is the repeat loan that the customer has taken for which we need to predict the performance of. Basically, we need to predict if whether this loan would default given all previous loans and demographics of a customer.\n",
        "\n",
        "- customerid (Primary key used to merge to other data)\n",
        "- systemloanid (The id associated with the particular loan. The same customerId can have multiple systemloanid’s for each loan he/she has taken out)\n",
        "- loannumber (The number of the loan that you have to predict)\n",
        "- approveddate (Date that loan was approved)\n",
        "- creationdate (Date that loan application was created)\n",
        "- loanamount (Loan value taken)\n",
        "- totaldue (Total repayment required to settle the loan - this is the capital loan value disbursed +interest and fees)\n",
        "- termdays (Term of loan)\n",
        "referredby (customerId of the customer that referred this person - is missing, then not referred)\n",
        "- good_bad_flag (good = settled loan on time; bad = did not settled loan on time) - this is the target variable that we need to predict\n"
      ]
    },
    {
      "cell_type": "markdown",
      "metadata": {
        "id": "ziVi0aE6l88m",
        "colab_type": "text"
      },
      "source": [
        "**Previous loans data (trainprevloans.csv)**\n",
        "\n",
        "This dataset contains all previous loans that the customer had prior to the loan above that we want to predict the performance of. Each loan will have a different systemloanid, but the same customerid for each customer.\n",
        "\n",
        "- customerid (Primary key used to merge to other data)\n",
        "- systemloanid (The id associated with the particular loan. The same customerId can have multiple systemloanid’s for each loan he/she has taken out)\n",
        "- loannumber (The number of the loan that you have to predict)\n",
        "- approveddate (Date that loan was approved)\n",
        "- creationdate (Date that loan application was created)\n",
        "- loanamount (Date that loan application was created)\n",
        "- totaldue (Total repayment required to settle the loan - this is the capital loan value disbursed +interest and fees) termdays (Term of loan)\n",
        "- closeddate (Date that the loan was settled)\n",
        "- referredby (customerId of the customer that referred this person - is missing, then not refrerred)\n",
        "- firstduedate (Date of first payment due in cases where the term is longer than 30 days. So in the case where the term is 60+ days - then there are multiple monthly payments due - and this dates reflects the date of the first payment)\n",
        "- firstrepaiddate (Actual date that he/she paid the first payment as defined above)\n",
        "\n",
        "\n"
      ]
    },
    {
      "cell_type": "code",
      "metadata": {
        "id": "pg2qVGWxnxSK",
        "colab_type": "code",
        "colab": {
          "base_uri": "https://localhost:8080/",
          "height": 50
        },
        "outputId": "6437d33f-1ad2-4a05-c004-b1256265222b"
      },
      "source": [
        "import pandas as pd                             #import pandas for dataframe manipulation\n",
        "import numpy as np                              #import numerical python\n",
        "import seaborn as sns                           #seaborn for visuals\n",
        "import matplotlib as mpl                        #matplot for plotting\n",
        "import matplotlib.pyplot as plt                 #matplot for plotting\n",
        "import itertools\n",
        "import datetime as dt                           #convert date formats\n",
        "from scipy import stats  \n",
        "\n",
        "from IPython.display import display             # Allows the use of display() for DataFrames\n",
        "import warnings                                 # Suppress warnings \n",
        "warnings.filterwarnings('ignore') \n",
        "import os                                       # File system manangement\n",
        "import gc                                       # memory managemen"
      ],
      "execution_count": null,
      "outputs": [
        {
          "output_type": "stream",
          "text": [
            "/usr/local/lib/python3.6/dist-packages/statsmodels/tools/_testing.py:19: FutureWarning: pandas.util.testing is deprecated. Use the functions in the public API at pandas.testing instead.\n",
            "  import pandas.util.testing as tm\n"
          ],
          "name": "stderr"
        }
      ]
    },
    {
      "cell_type": "markdown",
      "metadata": {
        "id": "aFxhRTBhn_52",
        "colab_type": "text"
      },
      "source": [
        "**Load The Data **\n"
      ]
    },
    {
      "cell_type": "code",
      "metadata": {
        "id": "IqQtQtE5ny6j",
        "colab_type": "code",
        "colab": {}
      },
      "source": [
        "#Read datasets\n",
        "traindemographics = pd.read_csv('traindemographics.csv', parse_dates=['birthdate'])\n",
        "testdemographics = pd.read_csv('testdemographics.csv', parse_dates=['birthdate'])\n",
        "trainperf = pd.read_csv('trainperf.csv', parse_dates=['approveddate','creationdate'])\n",
        "testperf = pd.read_csv('testperf.csv',parse_dates=['approveddate','creationdate'])\n",
        "trainprevloans= pd.read_csv('trainprevloans.csv', parse_dates=['approveddate','creationdate','closeddate',\n",
        "                                                                           'firstduedate','firstrepaiddate'])\n",
        "testprevloans = pd.read_csv('testprevloans.csv', parse_dates=['approveddate','creationdate','closeddate',\n",
        "                                                                          'firstduedate','firstrepaiddate'])"
      ],
      "execution_count": null,
      "outputs": []
    },
    {
      "cell_type": "markdown",
      "metadata": {
        "id": "mpzCHOxBqmCD",
        "colab_type": "text"
      },
      "source": [
        "**Checking The Shapes of data loaded**"
      ]
    },
    {
      "cell_type": "code",
      "metadata": {
        "id": "KdXTp2-ipWsa",
        "colab_type": "code",
        "colab": {
          "base_uri": "https://localhost:8080/",
          "height": 115
        },
        "outputId": "caa1c14d-ee26-4c62-ae85-b53febdcf55b"
      },
      "source": [
        "# Check The Shapes\n",
        "print('Test Demographic shape: {} Rows, {} Columns'.format(*trainperf.shape))\n",
        "print('Test Performance shape: {} Rows, {} Columns'.format(*traindemographics.shape))\n",
        "print('Test Previous Loan shape: {} Rows, {} Columns'.format(*trainprevloans.shape))\n",
        "print('Train Demographic shape: {} Rows, {} Columns'.format(*testperf.shape))\n",
        "print('Train Performance shape: {} Rows, {} Columns'.format(*testdemographics.shape))\n",
        "print('Train Previous Loan shape: {} Rows, {} Columns'.format(*testprevloans.shape))"
      ],
      "execution_count": null,
      "outputs": [
        {
          "output_type": "stream",
          "text": [
            "Test Demographic shape: 4368 Rows, 10 Columns\n",
            "Test Performance shape: 4346 Rows, 9 Columns\n",
            "Test Previous Loan shape: 18183 Rows, 12 Columns\n",
            "Train Demographic shape: 1450 Rows, 9 Columns\n",
            "Train Performance shape: 1487 Rows, 9 Columns\n",
            "Train Previous Loan shape: 5907 Rows, 12 Columns\n"
          ],
          "name": "stdout"
        }
      ]
    },
    {
      "cell_type": "markdown",
      "metadata": {
        "id": "E9EiZbxRq6jB",
        "colab_type": "text"
      },
      "source": [
        "**Checking the rows**"
      ]
    },
    {
      "cell_type": "code",
      "metadata": {
        "id": "xCqclpGfqvy8",
        "colab_type": "code",
        "colab": {
          "base_uri": "https://localhost:8080/",
          "height": 821
        },
        "outputId": "391afc34-7b86-4975-ec75-0567a6bc8fec"
      },
      "source": [
        "# Print First Three Rows Of The Data loaded\n",
        "display(\"test demographics\")\n",
        "display(testdemographics.head(3))\n",
        "display(\"test performance\")\n",
        "display(testperf.head(3))\n",
        "display(\"test previous loans\")\n",
        "display(testprevloans.head(3))\n",
        "display(\"train demographics\")\n",
        "display(traindemographics.head(3))\n",
        "display(\"train performance\")\n",
        "display(trainperf.head(3))\n",
        "display(\"train previous loans\")\n",
        "display(trainprevloans.head(3))"
      ],
      "execution_count": null,
      "outputs": [
        {
          "output_type": "display_data",
          "data": {
            "application/vnd.google.colaboratory.intrinsic+json": {
              "type": "string"
            },
            "text/plain": [
              "'test demographics'"
            ]
          },
          "metadata": {
            "tags": []
          }
        },
        {
          "output_type": "display_data",
          "data": {
            "text/html": [
              "<div>\n",
              "<style scoped>\n",
              "    .dataframe tbody tr th:only-of-type {\n",
              "        vertical-align: middle;\n",
              "    }\n",
              "\n",
              "    .dataframe tbody tr th {\n",
              "        vertical-align: top;\n",
              "    }\n",
              "\n",
              "    .dataframe thead th {\n",
              "        text-align: right;\n",
              "    }\n",
              "</style>\n",
              "<table border=\"1\" class=\"dataframe\">\n",
              "  <thead>\n",
              "    <tr style=\"text-align: right;\">\n",
              "      <th></th>\n",
              "      <th>customerid</th>\n",
              "      <th>birthdate</th>\n",
              "      <th>bank_account_type</th>\n",
              "      <th>longitude_gps</th>\n",
              "      <th>latitude_gps</th>\n",
              "      <th>bank_name_clients</th>\n",
              "      <th>bank_branch_clients</th>\n",
              "      <th>employment_status_clients</th>\n",
              "      <th>level_of_education_clients</th>\n",
              "    </tr>\n",
              "  </thead>\n",
              "  <tbody>\n",
              "    <tr>\n",
              "      <th>0</th>\n",
              "      <td>8a858f305c8dd672015c93b1db645db4</td>\n",
              "      <td>1976-08-28</td>\n",
              "      <td>Savings</td>\n",
              "      <td>5.296628</td>\n",
              "      <td>7.593965</td>\n",
              "      <td>Heritage Bank</td>\n",
              "      <td>NaN</td>\n",
              "      <td>Permanent</td>\n",
              "      <td>NaN</td>\n",
              "    </tr>\n",
              "    <tr>\n",
              "      <th>1</th>\n",
              "      <td>8a858f085a477386015a47fb049e49ca</td>\n",
              "      <td>1978-06-23</td>\n",
              "      <td>Savings</td>\n",
              "      <td>3.294513</td>\n",
              "      <td>6.596602</td>\n",
              "      <td>UBA</td>\n",
              "      <td>NaN</td>\n",
              "      <td>Permanent</td>\n",
              "      <td>NaN</td>\n",
              "    </tr>\n",
              "    <tr>\n",
              "      <th>2</th>\n",
              "      <td>8a858e6f5cd5e874015cd6f5634c39ad</td>\n",
              "      <td>1984-04-04</td>\n",
              "      <td>Savings</td>\n",
              "      <td>8.501912</td>\n",
              "      <td>7.729364</td>\n",
              "      <td>First Bank</td>\n",
              "      <td>NaN</td>\n",
              "      <td>Permanent</td>\n",
              "      <td>NaN</td>\n",
              "    </tr>\n",
              "  </tbody>\n",
              "</table>\n",
              "</div>"
            ],
            "text/plain": [
              "                         customerid  ... level_of_education_clients\n",
              "0  8a858f305c8dd672015c93b1db645db4  ...                        NaN\n",
              "1  8a858f085a477386015a47fb049e49ca  ...                        NaN\n",
              "2  8a858e6f5cd5e874015cd6f5634c39ad  ...                        NaN\n",
              "\n",
              "[3 rows x 9 columns]"
            ]
          },
          "metadata": {
            "tags": []
          }
        },
        {
          "output_type": "display_data",
          "data": {
            "application/vnd.google.colaboratory.intrinsic+json": {
              "type": "string"
            },
            "text/plain": [
              "'test performance'"
            ]
          },
          "metadata": {
            "tags": []
          }
        },
        {
          "output_type": "display_data",
          "data": {
            "text/html": [
              "<div>\n",
              "<style scoped>\n",
              "    .dataframe tbody tr th:only-of-type {\n",
              "        vertical-align: middle;\n",
              "    }\n",
              "\n",
              "    .dataframe tbody tr th {\n",
              "        vertical-align: top;\n",
              "    }\n",
              "\n",
              "    .dataframe thead th {\n",
              "        text-align: right;\n",
              "    }\n",
              "</style>\n",
              "<table border=\"1\" class=\"dataframe\">\n",
              "  <thead>\n",
              "    <tr style=\"text-align: right;\">\n",
              "      <th></th>\n",
              "      <th>customerid</th>\n",
              "      <th>systemloanid</th>\n",
              "      <th>loannumber</th>\n",
              "      <th>approveddate</th>\n",
              "      <th>creationdate</th>\n",
              "      <th>loanamount</th>\n",
              "      <th>totaldue</th>\n",
              "      <th>termdays</th>\n",
              "      <th>referredby</th>\n",
              "    </tr>\n",
              "  </thead>\n",
              "  <tbody>\n",
              "    <tr>\n",
              "      <th>0</th>\n",
              "      <td>8a858899538ddb8e015390510b321f08</td>\n",
              "      <td>301998974</td>\n",
              "      <td>4</td>\n",
              "      <td>40:48.0</td>\n",
              "      <td>39:35.0</td>\n",
              "      <td>10000</td>\n",
              "      <td>12250.0</td>\n",
              "      <td>30</td>\n",
              "      <td>NaN</td>\n",
              "    </tr>\n",
              "    <tr>\n",
              "      <th>1</th>\n",
              "      <td>8a858959537a097401537a4e316e25f7</td>\n",
              "      <td>301963615</td>\n",
              "      <td>10</td>\n",
              "      <td>43:40.0</td>\n",
              "      <td>42:34.0</td>\n",
              "      <td>40000</td>\n",
              "      <td>44000.0</td>\n",
              "      <td>30</td>\n",
              "      <td>NaN</td>\n",
              "    </tr>\n",
              "    <tr>\n",
              "      <th>2</th>\n",
              "      <td>8a8589c253ace09b0153af6ba58f1f31</td>\n",
              "      <td>301982236</td>\n",
              "      <td>6</td>\n",
              "      <td>15:11.0</td>\n",
              "      <td>15:04.0</td>\n",
              "      <td>20000</td>\n",
              "      <td>24500.0</td>\n",
              "      <td>30</td>\n",
              "      <td>NaN</td>\n",
              "    </tr>\n",
              "  </tbody>\n",
              "</table>\n",
              "</div>"
            ],
            "text/plain": [
              "                         customerid  systemloanid  ...  termdays referredby\n",
              "0  8a858899538ddb8e015390510b321f08     301998974  ...        30        NaN\n",
              "1  8a858959537a097401537a4e316e25f7     301963615  ...        30        NaN\n",
              "2  8a8589c253ace09b0153af6ba58f1f31     301982236  ...        30        NaN\n",
              "\n",
              "[3 rows x 9 columns]"
            ]
          },
          "metadata": {
            "tags": []
          }
        },
        {
          "output_type": "display_data",
          "data": {
            "application/vnd.google.colaboratory.intrinsic+json": {
              "type": "string"
            },
            "text/plain": [
              "'test previous loans'"
            ]
          },
          "metadata": {
            "tags": []
          }
        },
        {
          "output_type": "display_data",
          "data": {
            "text/html": [
              "<div>\n",
              "<style scoped>\n",
              "    .dataframe tbody tr th:only-of-type {\n",
              "        vertical-align: middle;\n",
              "    }\n",
              "\n",
              "    .dataframe tbody tr th {\n",
              "        vertical-align: top;\n",
              "    }\n",
              "\n",
              "    .dataframe thead th {\n",
              "        text-align: right;\n",
              "    }\n",
              "</style>\n",
              "<table border=\"1\" class=\"dataframe\">\n",
              "  <thead>\n",
              "    <tr style=\"text-align: right;\">\n",
              "      <th></th>\n",
              "      <th>customerid</th>\n",
              "      <th>systemloanid</th>\n",
              "      <th>loannumber</th>\n",
              "      <th>approveddate</th>\n",
              "      <th>creationdate</th>\n",
              "      <th>loanamount</th>\n",
              "      <th>totaldue</th>\n",
              "      <th>termdays</th>\n",
              "      <th>closeddate</th>\n",
              "      <th>referredby</th>\n",
              "      <th>firstduedate</th>\n",
              "      <th>firstrepaiddate</th>\n",
              "    </tr>\n",
              "  </thead>\n",
              "  <tbody>\n",
              "    <tr>\n",
              "      <th>0</th>\n",
              "      <td>8a858899538ddb8e015390510b321f08</td>\n",
              "      <td>301621635</td>\n",
              "      <td>3</td>\n",
              "      <td>2016-05-17 10:37:00</td>\n",
              "      <td>2016-05-17 09:36:55</td>\n",
              "      <td>10000.0</td>\n",
              "      <td>13000.0</td>\n",
              "      <td>30</td>\n",
              "      <td>2016-06-17 00:04:15</td>\n",
              "      <td>NaN</td>\n",
              "      <td>2016-06-16</td>\n",
              "      <td>2016-06-16 15:44:08</td>\n",
              "    </tr>\n",
              "    <tr>\n",
              "      <th>1</th>\n",
              "      <td>8a858959537a097401537a4e316e25f7</td>\n",
              "      <td>301810201</td>\n",
              "      <td>5</td>\n",
              "      <td>2017-02-04 21:28:59</td>\n",
              "      <td>2017-02-04 20:28:52</td>\n",
              "      <td>30000.0</td>\n",
              "      <td>36800.0</td>\n",
              "      <td>60</td>\n",
              "      <td>2017-03-02 16:22:58</td>\n",
              "      <td>NaN</td>\n",
              "      <td>2017-03-06</td>\n",
              "      <td>2017-03-02 16:07:47</td>\n",
              "    </tr>\n",
              "    <tr>\n",
              "      <th>2</th>\n",
              "      <td>8a858959537a097401537a4e316e25f7</td>\n",
              "      <td>301831255</td>\n",
              "      <td>6</td>\n",
              "      <td>2017-03-04 10:28:22</td>\n",
              "      <td>2017-03-04 09:28:16</td>\n",
              "      <td>30000.0</td>\n",
              "      <td>34400.0</td>\n",
              "      <td>30</td>\n",
              "      <td>2017-04-02 00:44:24</td>\n",
              "      <td>NaN</td>\n",
              "      <td>2017-04-03</td>\n",
              "      <td>2017-04-01 21:29:46</td>\n",
              "    </tr>\n",
              "  </tbody>\n",
              "</table>\n",
              "</div>"
            ],
            "text/plain": [
              "                         customerid  ...     firstrepaiddate\n",
              "0  8a858899538ddb8e015390510b321f08  ... 2016-06-16 15:44:08\n",
              "1  8a858959537a097401537a4e316e25f7  ... 2017-03-02 16:07:47\n",
              "2  8a858959537a097401537a4e316e25f7  ... 2017-04-01 21:29:46\n",
              "\n",
              "[3 rows x 12 columns]"
            ]
          },
          "metadata": {
            "tags": []
          }
        },
        {
          "output_type": "display_data",
          "data": {
            "application/vnd.google.colaboratory.intrinsic+json": {
              "type": "string"
            },
            "text/plain": [
              "'train demographics'"
            ]
          },
          "metadata": {
            "tags": []
          }
        },
        {
          "output_type": "display_data",
          "data": {
            "text/html": [
              "<div>\n",
              "<style scoped>\n",
              "    .dataframe tbody tr th:only-of-type {\n",
              "        vertical-align: middle;\n",
              "    }\n",
              "\n",
              "    .dataframe tbody tr th {\n",
              "        vertical-align: top;\n",
              "    }\n",
              "\n",
              "    .dataframe thead th {\n",
              "        text-align: right;\n",
              "    }\n",
              "</style>\n",
              "<table border=\"1\" class=\"dataframe\">\n",
              "  <thead>\n",
              "    <tr style=\"text-align: right;\">\n",
              "      <th></th>\n",
              "      <th>customerid</th>\n",
              "      <th>birthdate</th>\n",
              "      <th>bank_account_type</th>\n",
              "      <th>longitude_gps</th>\n",
              "      <th>latitude_gps</th>\n",
              "      <th>bank_name_clients</th>\n",
              "      <th>bank_branch_clients</th>\n",
              "      <th>employment_status_clients</th>\n",
              "      <th>level_of_education_clients</th>\n",
              "    </tr>\n",
              "  </thead>\n",
              "  <tbody>\n",
              "    <tr>\n",
              "      <th>0</th>\n",
              "      <td>8a858e135cb22031015cbafc76964ebd</td>\n",
              "      <td>1973-10-10</td>\n",
              "      <td>Savings</td>\n",
              "      <td>3.319219</td>\n",
              "      <td>6.528604</td>\n",
              "      <td>GT Bank</td>\n",
              "      <td>NaN</td>\n",
              "      <td>NaN</td>\n",
              "      <td>NaN</td>\n",
              "    </tr>\n",
              "    <tr>\n",
              "      <th>1</th>\n",
              "      <td>8a858e275c7ea5ec015c82482d7c3996</td>\n",
              "      <td>1986-01-21</td>\n",
              "      <td>Savings</td>\n",
              "      <td>3.325598</td>\n",
              "      <td>7.119403</td>\n",
              "      <td>Sterling Bank</td>\n",
              "      <td>NaN</td>\n",
              "      <td>Permanent</td>\n",
              "      <td>NaN</td>\n",
              "    </tr>\n",
              "    <tr>\n",
              "      <th>2</th>\n",
              "      <td>8a858e5b5bd99460015bdc95cd485634</td>\n",
              "      <td>1987-04-01</td>\n",
              "      <td>Savings</td>\n",
              "      <td>5.746100</td>\n",
              "      <td>5.563174</td>\n",
              "      <td>Fidelity Bank</td>\n",
              "      <td>NaN</td>\n",
              "      <td>NaN</td>\n",
              "      <td>NaN</td>\n",
              "    </tr>\n",
              "  </tbody>\n",
              "</table>\n",
              "</div>"
            ],
            "text/plain": [
              "                         customerid  ... level_of_education_clients\n",
              "0  8a858e135cb22031015cbafc76964ebd  ...                        NaN\n",
              "1  8a858e275c7ea5ec015c82482d7c3996  ...                        NaN\n",
              "2  8a858e5b5bd99460015bdc95cd485634  ...                        NaN\n",
              "\n",
              "[3 rows x 9 columns]"
            ]
          },
          "metadata": {
            "tags": []
          }
        },
        {
          "output_type": "display_data",
          "data": {
            "application/vnd.google.colaboratory.intrinsic+json": {
              "type": "string"
            },
            "text/plain": [
              "'train performance'"
            ]
          },
          "metadata": {
            "tags": []
          }
        },
        {
          "output_type": "display_data",
          "data": {
            "text/html": [
              "<div>\n",
              "<style scoped>\n",
              "    .dataframe tbody tr th:only-of-type {\n",
              "        vertical-align: middle;\n",
              "    }\n",
              "\n",
              "    .dataframe tbody tr th {\n",
              "        vertical-align: top;\n",
              "    }\n",
              "\n",
              "    .dataframe thead th {\n",
              "        text-align: right;\n",
              "    }\n",
              "</style>\n",
              "<table border=\"1\" class=\"dataframe\">\n",
              "  <thead>\n",
              "    <tr style=\"text-align: right;\">\n",
              "      <th></th>\n",
              "      <th>customerid</th>\n",
              "      <th>systemloanid</th>\n",
              "      <th>loannumber</th>\n",
              "      <th>approveddate</th>\n",
              "      <th>creationdate</th>\n",
              "      <th>loanamount</th>\n",
              "      <th>totaldue</th>\n",
              "      <th>termdays</th>\n",
              "      <th>referredby</th>\n",
              "      <th>good_bad_flag</th>\n",
              "    </tr>\n",
              "  </thead>\n",
              "  <tbody>\n",
              "    <tr>\n",
              "      <th>0</th>\n",
              "      <td>8a2a81a74ce8c05d014cfb32a0da1049</td>\n",
              "      <td>301994762</td>\n",
              "      <td>12</td>\n",
              "      <td>2017-07-25 08:22:56</td>\n",
              "      <td>2017-07-25 07:22:47</td>\n",
              "      <td>30000.0</td>\n",
              "      <td>34500.0</td>\n",
              "      <td>30</td>\n",
              "      <td>NaN</td>\n",
              "      <td>Good</td>\n",
              "    </tr>\n",
              "    <tr>\n",
              "      <th>1</th>\n",
              "      <td>8a85886e54beabf90154c0a29ae757c0</td>\n",
              "      <td>301965204</td>\n",
              "      <td>2</td>\n",
              "      <td>2017-07-05 17:04:41</td>\n",
              "      <td>2017-07-05 16:04:18</td>\n",
              "      <td>15000.0</td>\n",
              "      <td>17250.0</td>\n",
              "      <td>30</td>\n",
              "      <td>NaN</td>\n",
              "      <td>Good</td>\n",
              "    </tr>\n",
              "    <tr>\n",
              "      <th>2</th>\n",
              "      <td>8a8588f35438fe12015444567666018e</td>\n",
              "      <td>301966580</td>\n",
              "      <td>7</td>\n",
              "      <td>2017-07-06 14:52:57</td>\n",
              "      <td>2017-07-06 13:52:51</td>\n",
              "      <td>20000.0</td>\n",
              "      <td>22250.0</td>\n",
              "      <td>15</td>\n",
              "      <td>NaN</td>\n",
              "      <td>Good</td>\n",
              "    </tr>\n",
              "  </tbody>\n",
              "</table>\n",
              "</div>"
            ],
            "text/plain": [
              "                         customerid  systemloanid  ...  referredby good_bad_flag\n",
              "0  8a2a81a74ce8c05d014cfb32a0da1049     301994762  ...         NaN          Good\n",
              "1  8a85886e54beabf90154c0a29ae757c0     301965204  ...         NaN          Good\n",
              "2  8a8588f35438fe12015444567666018e     301966580  ...         NaN          Good\n",
              "\n",
              "[3 rows x 10 columns]"
            ]
          },
          "metadata": {
            "tags": []
          }
        },
        {
          "output_type": "display_data",
          "data": {
            "application/vnd.google.colaboratory.intrinsic+json": {
              "type": "string"
            },
            "text/plain": [
              "'train previous loans'"
            ]
          },
          "metadata": {
            "tags": []
          }
        },
        {
          "output_type": "display_data",
          "data": {
            "text/html": [
              "<div>\n",
              "<style scoped>\n",
              "    .dataframe tbody tr th:only-of-type {\n",
              "        vertical-align: middle;\n",
              "    }\n",
              "\n",
              "    .dataframe tbody tr th {\n",
              "        vertical-align: top;\n",
              "    }\n",
              "\n",
              "    .dataframe thead th {\n",
              "        text-align: right;\n",
              "    }\n",
              "</style>\n",
              "<table border=\"1\" class=\"dataframe\">\n",
              "  <thead>\n",
              "    <tr style=\"text-align: right;\">\n",
              "      <th></th>\n",
              "      <th>customerid</th>\n",
              "      <th>systemloanid</th>\n",
              "      <th>loannumber</th>\n",
              "      <th>approveddate</th>\n",
              "      <th>creationdate</th>\n",
              "      <th>loanamount</th>\n",
              "      <th>totaldue</th>\n",
              "      <th>termdays</th>\n",
              "      <th>closeddate</th>\n",
              "      <th>referredby</th>\n",
              "      <th>firstduedate</th>\n",
              "      <th>firstrepaiddate</th>\n",
              "    </tr>\n",
              "  </thead>\n",
              "  <tbody>\n",
              "    <tr>\n",
              "      <th>0</th>\n",
              "      <td>8a2a81a74ce8c05d014cfb32a0da1049</td>\n",
              "      <td>301682320</td>\n",
              "      <td>2</td>\n",
              "      <td>2016-08-15 18:22:40</td>\n",
              "      <td>2016-08-15 17:22:32</td>\n",
              "      <td>10000.0</td>\n",
              "      <td>13000.0</td>\n",
              "      <td>30</td>\n",
              "      <td>2016-09-01 16:06:48</td>\n",
              "      <td>NaN</td>\n",
              "      <td>2016-09-14</td>\n",
              "      <td>2016-09-01 15:51:43</td>\n",
              "    </tr>\n",
              "    <tr>\n",
              "      <th>1</th>\n",
              "      <td>8a2a81a74ce8c05d014cfb32a0da1049</td>\n",
              "      <td>301883808</td>\n",
              "      <td>9</td>\n",
              "      <td>2017-04-28 18:39:07</td>\n",
              "      <td>2017-04-28 17:38:53</td>\n",
              "      <td>10000.0</td>\n",
              "      <td>13000.0</td>\n",
              "      <td>30</td>\n",
              "      <td>2017-05-28 14:44:49</td>\n",
              "      <td>NaN</td>\n",
              "      <td>2017-05-30</td>\n",
              "      <td>2017-05-26 00:00:00</td>\n",
              "    </tr>\n",
              "    <tr>\n",
              "      <th>2</th>\n",
              "      <td>8a2a81a74ce8c05d014cfb32a0da1049</td>\n",
              "      <td>301831714</td>\n",
              "      <td>8</td>\n",
              "      <td>2017-03-05 10:56:25</td>\n",
              "      <td>2017-03-05 09:56:19</td>\n",
              "      <td>20000.0</td>\n",
              "      <td>23800.0</td>\n",
              "      <td>30</td>\n",
              "      <td>2017-04-26 22:18:56</td>\n",
              "      <td>NaN</td>\n",
              "      <td>2017-04-04</td>\n",
              "      <td>2017-04-26 22:03:47</td>\n",
              "    </tr>\n",
              "  </tbody>\n",
              "</table>\n",
              "</div>"
            ],
            "text/plain": [
              "                         customerid  ...     firstrepaiddate\n",
              "0  8a2a81a74ce8c05d014cfb32a0da1049  ... 2016-09-01 15:51:43\n",
              "1  8a2a81a74ce8c05d014cfb32a0da1049  ... 2017-05-26 00:00:00\n",
              "2  8a2a81a74ce8c05d014cfb32a0da1049  ... 2017-04-26 22:03:47\n",
              "\n",
              "[3 rows x 12 columns]"
            ]
          },
          "metadata": {
            "tags": []
          }
        }
      ]
    },
    {
      "cell_type": "markdown",
      "metadata": {
        "id": "npm5AEddyHL-",
        "colab_type": "text"
      },
      "source": [
        "\n",
        "## **Data Exploration**\n",
        "\n",
        "Column/Variable Names\n"
      ]
    },
    {
      "cell_type": "code",
      "metadata": {
        "id": "FidqSVPfq_HW",
        "colab_type": "code",
        "colab": {
          "base_uri": "https://localhost:8080/",
          "height": 497
        },
        "outputId": "30fbf600-5d4f-42ba-8979-e4bf9b149f47"
      },
      "source": [
        "\n",
        "display(\"test demographics\")\n",
        "display(testdemographics.columns)\n",
        "display(\"test performance\")\n",
        "display(testperf.columns)\n",
        "display(\"test previous loans\")\n",
        "display(testprevloans.columns)\n",
        "display(\"train demographics\")\n",
        "display(traindemographics.columns)\n",
        "display(\"train performance\")\n",
        "display(trainperf.columns)\n",
        "display(\"train previous loans\")\n",
        "display(trainprevloans.columns)"
      ],
      "execution_count": null,
      "outputs": [
        {
          "output_type": "display_data",
          "data": {
            "application/vnd.google.colaboratory.intrinsic+json": {
              "type": "string"
            },
            "text/plain": [
              "'test demographics'"
            ]
          },
          "metadata": {
            "tags": []
          }
        },
        {
          "output_type": "display_data",
          "data": {
            "text/plain": [
              "Index(['customerid', 'birthdate', 'bank_account_type', 'longitude_gps',\n",
              "       'latitude_gps', 'bank_name_clients', 'bank_branch_clients',\n",
              "       'employment_status_clients', 'level_of_education_clients'],\n",
              "      dtype='object')"
            ]
          },
          "metadata": {
            "tags": []
          }
        },
        {
          "output_type": "display_data",
          "data": {
            "application/vnd.google.colaboratory.intrinsic+json": {
              "type": "string"
            },
            "text/plain": [
              "'test performance'"
            ]
          },
          "metadata": {
            "tags": []
          }
        },
        {
          "output_type": "display_data",
          "data": {
            "text/plain": [
              "Index(['customerid', 'systemloanid', 'loannumber', 'approveddate',\n",
              "       'creationdate', 'loanamount', 'totaldue', 'termdays', 'referredby'],\n",
              "      dtype='object')"
            ]
          },
          "metadata": {
            "tags": []
          }
        },
        {
          "output_type": "display_data",
          "data": {
            "application/vnd.google.colaboratory.intrinsic+json": {
              "type": "string"
            },
            "text/plain": [
              "'test previous loans'"
            ]
          },
          "metadata": {
            "tags": []
          }
        },
        {
          "output_type": "display_data",
          "data": {
            "text/plain": [
              "Index(['customerid', 'systemloanid', 'loannumber', 'approveddate',\n",
              "       'creationdate', 'loanamount', 'totaldue', 'termdays', 'closeddate',\n",
              "       'referredby', 'firstduedate', 'firstrepaiddate'],\n",
              "      dtype='object')"
            ]
          },
          "metadata": {
            "tags": []
          }
        },
        {
          "output_type": "display_data",
          "data": {
            "application/vnd.google.colaboratory.intrinsic+json": {
              "type": "string"
            },
            "text/plain": [
              "'train demographics'"
            ]
          },
          "metadata": {
            "tags": []
          }
        },
        {
          "output_type": "display_data",
          "data": {
            "text/plain": [
              "Index(['customerid', 'birthdate', 'bank_account_type', 'longitude_gps',\n",
              "       'latitude_gps', 'bank_name_clients', 'bank_branch_clients',\n",
              "       'employment_status_clients', 'level_of_education_clients'],\n",
              "      dtype='object')"
            ]
          },
          "metadata": {
            "tags": []
          }
        },
        {
          "output_type": "display_data",
          "data": {
            "application/vnd.google.colaboratory.intrinsic+json": {
              "type": "string"
            },
            "text/plain": [
              "'train performance'"
            ]
          },
          "metadata": {
            "tags": []
          }
        },
        {
          "output_type": "display_data",
          "data": {
            "text/plain": [
              "Index(['customerid', 'systemloanid', 'loannumber', 'approveddate',\n",
              "       'creationdate', 'loanamount', 'totaldue', 'termdays', 'referredby',\n",
              "       'good_bad_flag'],\n",
              "      dtype='object')"
            ]
          },
          "metadata": {
            "tags": []
          }
        },
        {
          "output_type": "display_data",
          "data": {
            "application/vnd.google.colaboratory.intrinsic+json": {
              "type": "string"
            },
            "text/plain": [
              "'train previous loans'"
            ]
          },
          "metadata": {
            "tags": []
          }
        },
        {
          "output_type": "display_data",
          "data": {
            "text/plain": [
              "Index(['customerid', 'systemloanid', 'loannumber', 'approveddate',\n",
              "       'creationdate', 'loanamount', 'totaldue', 'termdays', 'closeddate',\n",
              "       'referredby', 'firstduedate', 'firstrepaiddate'],\n",
              "      dtype='object')"
            ]
          },
          "metadata": {
            "tags": []
          }
        }
      ]
    },
    {
      "cell_type": "markdown",
      "metadata": {
        "id": "8Gaiz0oAymoj",
        "colab_type": "text"
      },
      "source": [
        "Now look at the number of columns of each data type"
      ]
    },
    {
      "cell_type": "code",
      "metadata": {
        "id": "mEMm1fZgyWWs",
        "colab_type": "code",
        "colab": {
          "base_uri": "https://localhost:8080/",
          "height": 562
        },
        "outputId": "d5e35854-980f-413e-8f22-21b085f0ca00"
      },
      "source": [
        "# Number of each type of column\n",
        "display(\"test demographics\")\n",
        "display(testdemographics.dtypes.value_counts())\n",
        "display(\"test performance\")\n",
        "display(testperf.dtypes.value_counts())\n",
        "display(\"test previous loans\")\n",
        "display(testprevloans.dtypes.value_counts())\n",
        "display(\"train demographics\")\n",
        "display(traindemographics.dtypes.value_counts())\n",
        "display(\"train performance\")\n",
        "display(trainperf.dtypes.value_counts())\n",
        "display(\"train previous loans\")\n",
        "display(trainprevloans.dtypes.value_counts())"
      ],
      "execution_count": null,
      "outputs": [
        {
          "output_type": "display_data",
          "data": {
            "application/vnd.google.colaboratory.intrinsic+json": {
              "type": "string"
            },
            "text/plain": [
              "'test demographics'"
            ]
          },
          "metadata": {
            "tags": []
          }
        },
        {
          "output_type": "display_data",
          "data": {
            "text/plain": [
              "object            6\n",
              "float64           2\n",
              "datetime64[ns]    1\n",
              "dtype: int64"
            ]
          },
          "metadata": {
            "tags": []
          }
        },
        {
          "output_type": "display_data",
          "data": {
            "application/vnd.google.colaboratory.intrinsic+json": {
              "type": "string"
            },
            "text/plain": [
              "'test performance'"
            ]
          },
          "metadata": {
            "tags": []
          }
        },
        {
          "output_type": "display_data",
          "data": {
            "text/plain": [
              "object     4\n",
              "int64      4\n",
              "float64    1\n",
              "dtype: int64"
            ]
          },
          "metadata": {
            "tags": []
          }
        },
        {
          "output_type": "display_data",
          "data": {
            "application/vnd.google.colaboratory.intrinsic+json": {
              "type": "string"
            },
            "text/plain": [
              "'test previous loans'"
            ]
          },
          "metadata": {
            "tags": []
          }
        },
        {
          "output_type": "display_data",
          "data": {
            "text/plain": [
              "datetime64[ns]    5\n",
              "int64             3\n",
              "object            2\n",
              "float64           2\n",
              "dtype: int64"
            ]
          },
          "metadata": {
            "tags": []
          }
        },
        {
          "output_type": "display_data",
          "data": {
            "application/vnd.google.colaboratory.intrinsic+json": {
              "type": "string"
            },
            "text/plain": [
              "'train demographics'"
            ]
          },
          "metadata": {
            "tags": []
          }
        },
        {
          "output_type": "display_data",
          "data": {
            "text/plain": [
              "object            6\n",
              "float64           2\n",
              "datetime64[ns]    1\n",
              "dtype: int64"
            ]
          },
          "metadata": {
            "tags": []
          }
        },
        {
          "output_type": "display_data",
          "data": {
            "application/vnd.google.colaboratory.intrinsic+json": {
              "type": "string"
            },
            "text/plain": [
              "'train performance'"
            ]
          },
          "metadata": {
            "tags": []
          }
        },
        {
          "output_type": "display_data",
          "data": {
            "text/plain": [
              "object            3\n",
              "int64             3\n",
              "float64           2\n",
              "datetime64[ns]    2\n",
              "dtype: int64"
            ]
          },
          "metadata": {
            "tags": []
          }
        },
        {
          "output_type": "display_data",
          "data": {
            "application/vnd.google.colaboratory.intrinsic+json": {
              "type": "string"
            },
            "text/plain": [
              "'train previous loans'"
            ]
          },
          "metadata": {
            "tags": []
          }
        },
        {
          "output_type": "display_data",
          "data": {
            "text/plain": [
              "datetime64[ns]    5\n",
              "int64             3\n",
              "object            2\n",
              "float64           2\n",
              "dtype: int64"
            ]
          },
          "metadata": {
            "tags": []
          }
        }
      ]
    },
    {
      "cell_type": "markdown",
      "metadata": {
        "colab_type": "text",
        "id": "0iP2fEQnIXs5"
      },
      "source": [
        "##**Data Preparation**\n",
        "\n",
        "**Merging the datasets**\n",
        "\n",
        "tag the data with a set column specifying whether its from train or test set"
      ]
    },
    {
      "cell_type": "code",
      "metadata": {
        "id": "7P6w9L1uzBtp",
        "colab_type": "code",
        "colab": {}
      },
      "source": [
        "\n",
        "traindemographics['set'] = 'train'\n",
        "testdemographics['set'] = 'test'\n",
        "trainperf['set'] = 'train'\n",
        "testperf['set'] = 'test'\n",
        "trainprevloans['set'] = 'train'\n",
        "testprevloans['set'] = 'test'"
      ],
      "execution_count": null,
      "outputs": []
    },
    {
      "cell_type": "code",
      "metadata": {
        "id": "1rQPFqrA0Hxc",
        "colab_type": "code",
        "colab": {}
      },
      "source": [
        "Tdemographics=pd.concat([traindemographics,testdemographics])\n",
        "Tperfomance=pd.concat([trainperf,testperf])\n",
        "Tprevious=pd.concat([trainprevloans,testprevloans])"
      ],
      "execution_count": null,
      "outputs": []
    },
    {
      "cell_type": "code",
      "metadata": {
        "id": "h2Rn0lTe0lbe",
        "colab_type": "code",
        "colab": {}
      },
      "source": [
        "# Convert the good_bad_flag into numerical binary variable \n",
        "goodbad={'Good':1,'Bad':0}\n",
        "Tperfomance.good_bad_flag=Tperfomance.good_bad_flag.map(goodbad)"
      ],
      "execution_count": null,
      "outputs": []
    },
    {
      "cell_type": "code",
      "metadata": {
        "id": "ZyCyS56y0td8",
        "colab_type": "code",
        "colab": {
          "base_uri": "https://localhost:8080/",
          "height": 191
        },
        "outputId": "54f01fae-081b-43ff-c010-4d693ec0120b"
      },
      "source": [
        "Tperfomance.head()\n"
      ],
      "execution_count": null,
      "outputs": [
        {
          "output_type": "execute_result",
          "data": {
            "text/html": [
              "<div>\n",
              "<style scoped>\n",
              "    .dataframe tbody tr th:only-of-type {\n",
              "        vertical-align: middle;\n",
              "    }\n",
              "\n",
              "    .dataframe tbody tr th {\n",
              "        vertical-align: top;\n",
              "    }\n",
              "\n",
              "    .dataframe thead th {\n",
              "        text-align: right;\n",
              "    }\n",
              "</style>\n",
              "<table border=\"1\" class=\"dataframe\">\n",
              "  <thead>\n",
              "    <tr style=\"text-align: right;\">\n",
              "      <th></th>\n",
              "      <th>customerid</th>\n",
              "      <th>systemloanid</th>\n",
              "      <th>loannumber</th>\n",
              "      <th>approveddate</th>\n",
              "      <th>creationdate</th>\n",
              "      <th>loanamount</th>\n",
              "      <th>totaldue</th>\n",
              "      <th>termdays</th>\n",
              "      <th>referredby</th>\n",
              "      <th>good_bad_flag</th>\n",
              "      <th>set</th>\n",
              "    </tr>\n",
              "  </thead>\n",
              "  <tbody>\n",
              "    <tr>\n",
              "      <th>0</th>\n",
              "      <td>8a2a81a74ce8c05d014cfb32a0da1049</td>\n",
              "      <td>301994762</td>\n",
              "      <td>12</td>\n",
              "      <td>2017-07-25 08:22:56</td>\n",
              "      <td>2017-07-25 07:22:47</td>\n",
              "      <td>30000.0</td>\n",
              "      <td>34500.0</td>\n",
              "      <td>30</td>\n",
              "      <td>NaN</td>\n",
              "      <td>1.0</td>\n",
              "      <td>train</td>\n",
              "    </tr>\n",
              "    <tr>\n",
              "      <th>1</th>\n",
              "      <td>8a85886e54beabf90154c0a29ae757c0</td>\n",
              "      <td>301965204</td>\n",
              "      <td>2</td>\n",
              "      <td>2017-07-05 17:04:41</td>\n",
              "      <td>2017-07-05 16:04:18</td>\n",
              "      <td>15000.0</td>\n",
              "      <td>17250.0</td>\n",
              "      <td>30</td>\n",
              "      <td>NaN</td>\n",
              "      <td>1.0</td>\n",
              "      <td>train</td>\n",
              "    </tr>\n",
              "    <tr>\n",
              "      <th>2</th>\n",
              "      <td>8a8588f35438fe12015444567666018e</td>\n",
              "      <td>301966580</td>\n",
              "      <td>7</td>\n",
              "      <td>2017-07-06 14:52:57</td>\n",
              "      <td>2017-07-06 13:52:51</td>\n",
              "      <td>20000.0</td>\n",
              "      <td>22250.0</td>\n",
              "      <td>15</td>\n",
              "      <td>NaN</td>\n",
              "      <td>1.0</td>\n",
              "      <td>train</td>\n",
              "    </tr>\n",
              "    <tr>\n",
              "      <th>3</th>\n",
              "      <td>8a85890754145ace015429211b513e16</td>\n",
              "      <td>301999343</td>\n",
              "      <td>3</td>\n",
              "      <td>2017-07-27 19:00:41</td>\n",
              "      <td>2017-07-27 18:00:35</td>\n",
              "      <td>10000.0</td>\n",
              "      <td>11500.0</td>\n",
              "      <td>15</td>\n",
              "      <td>NaN</td>\n",
              "      <td>1.0</td>\n",
              "      <td>train</td>\n",
              "    </tr>\n",
              "    <tr>\n",
              "      <th>4</th>\n",
              "      <td>8a858970548359cc0154883481981866</td>\n",
              "      <td>301962360</td>\n",
              "      <td>9</td>\n",
              "      <td>2017-07-03 23:42:45</td>\n",
              "      <td>2017-07-03 22:42:39</td>\n",
              "      <td>40000.0</td>\n",
              "      <td>44000.0</td>\n",
              "      <td>30</td>\n",
              "      <td>NaN</td>\n",
              "      <td>1.0</td>\n",
              "      <td>train</td>\n",
              "    </tr>\n",
              "  </tbody>\n",
              "</table>\n",
              "</div>"
            ],
            "text/plain": [
              "                         customerid  systemloanid  ...  good_bad_flag    set\n",
              "0  8a2a81a74ce8c05d014cfb32a0da1049     301994762  ...            1.0  train\n",
              "1  8a85886e54beabf90154c0a29ae757c0     301965204  ...            1.0  train\n",
              "2  8a8588f35438fe12015444567666018e     301966580  ...            1.0  train\n",
              "3  8a85890754145ace015429211b513e16     301999343  ...            1.0  train\n",
              "4  8a858970548359cc0154883481981866     301962360  ...            1.0  train\n",
              "\n",
              "[5 rows x 11 columns]"
            ]
          },
          "metadata": {
            "tags": []
          },
          "execution_count": 10
        }
      ]
    },
    {
      "cell_type": "code",
      "metadata": {
        "id": "dgjbER17ifPu",
        "colab_type": "code",
        "colab": {
          "base_uri": "https://localhost:8080/",
          "height": 66
        },
        "outputId": "d84cad23-5483-4f39-ff0f-7a697665586b"
      },
      "source": [
        "Tperfomance['set'].value_counts(normalize=True) * 100"
      ],
      "execution_count": null,
      "outputs": [
        {
          "output_type": "execute_result",
          "data": {
            "text/plain": [
              "train    75.077346\n",
              "test     24.922654\n",
              "Name: set, dtype: float64"
            ]
          },
          "metadata": {
            "tags": []
          },
          "execution_count": 11
        }
      ]
    },
    {
      "cell_type": "code",
      "metadata": {
        "id": "Io0ykuHl0wIc",
        "colab_type": "code",
        "colab": {
          "base_uri": "https://localhost:8080/",
          "height": 336
        },
        "outputId": "7e4dc97b-468c-4348-d9e8-acee1d6984b5"
      },
      "source": [
        "# Distribution of the target variable\n",
        "fig = plt.figure(figsize=(12, 5))\n",
        "plt.subplot(121)\n",
        "Tperfomance[Tperfomance['set'] == \"train\"][\"good_bad_flag\"].value_counts().plot.pie(autopct = \"%1.0f%%\",colors = sns.color_palette(\"prism\",7),\n",
        "                                                                             startangle = 60,\n",
        "                                            labels=[\"repayer\",\"defaulter\"],wedgeprops={\"linewidth\":2,\"edgecolor\":\"k\"},\n",
        "                                            explode=[.1,0],shadow =True)\n",
        "plt.title(\"Distribution of target variable\")\n",
        "\n",
        "plt.subplot(122)\n",
        "ax = Tperfomance[Tperfomance['set'] == \"train\"][\"good_bad_flag\"].value_counts().plot(kind=\"barh\")\n",
        "\n",
        "for i,j in enumerate(Tperfomance[Tperfomance['set'] == \"train\"][\"good_bad_flag\"].value_counts().values):\n",
        "    ax.text(.7,i,j,weight = \"bold\",fontsize=20)\n",
        "\n",
        "plt.title(\"Count of target variable\")\n",
        "#ax.set_facecolor(\"k\")\n",
        "fig.set_facecolor(\"lightgrey\")\n",
        "plt.show()"
      ],
      "execution_count": null,
      "outputs": [
        {
          "output_type": "display_data",
          "data": {
            "image/png": "[encoded data removed]",
            "text/plain": [
              "<Figure size 864x360 with 2 Axes>"
            ]
          },
          "metadata": {
            "tags": []
          }
        }
      ]
    },
    {
      "cell_type": "markdown",
      "metadata": {
        "id": "Njeqil33HLe4",
        "colab_type": "text"
      },
      "source": [
        "22% of the clients are defaulters. This is so high from the global default rate of 2.1% in 2018 "
      ]
    },
    {
      "cell_type": "markdown",
      "metadata": {
        "id": "iCZeEq4B3MuF",
        "colab_type": "text"
      },
      "source": [
        "Checking for missing values in the performance train and test data"
      ]
    },
    {
      "cell_type": "code",
      "metadata": {
        "id": "HKlgalQz1T-L",
        "colab_type": "code",
        "colab": {
          "base_uri": "https://localhost:8080/",
          "height": 336
        },
        "outputId": "5a9cf02d-4805-49e7-c4fd-c57abf36f406"
      },
      "source": [
        "\n",
        "fig = plt.figure(figsize=(12,4))\n",
        "miss_train = pd.DataFrame((Tperfomance[Tperfomance['set'] == \"train\"].isnull().sum())*100/Tperfomance[Tperfomance['set'] == \"train\"].shape[0]).reset_index()\n",
        "miss_test  = pd.DataFrame((Tperfomance[Tperfomance['set'] == \"test\"].isnull().sum())*100/Tperfomance[Tperfomance['set'] == \"test\"].shape[0]).reset_index()\n",
        "miss_train[\"set\"] = \"train\"\n",
        "miss_test[\"set\"]  =  \"test\"\n",
        "missing = pd.concat([miss_train,miss_test],axis=0)\n",
        "ax = sns.pointplot(\"index\",0,data=missing,hue=\"set\")\n",
        "plt.xticks(rotation =90,fontsize =7)\n",
        "plt.title(\"Percentage of Missing values in performance train and test data\")\n",
        "plt.ylabel(\"PERCENTAGE\")\n",
        "plt.xlabel(\"COLUMNS\")\n",
        "#ax.set_facecolor(\"k\")\n",
        "fig.set_facecolor(\"lightgrey\")"
      ],
      "execution_count": null,
      "outputs": [
        {
          "output_type": "display_data",
          "data": {
            "image/png": "[encoded data removed]",
            "text/plain": [
              "<Figure size 864x288 with 1 Axes>"
            ]
          },
          "metadata": {
            "tags": []
          }
        }
      ]
    },
    {
      "cell_type": "markdown",
      "metadata": {
        "id": "O7glKk5W3giX",
        "colab_type": "text"
      },
      "source": [
        "Checking the percentage of missing values in the rest of the datasets"
      ]
    },
    {
      "cell_type": "code",
      "metadata": {
        "id": "XUA-NSp93Lht",
        "colab_type": "code",
        "colab": {
          "base_uri": "https://localhost:8080/",
          "height": 311
        },
        "outputId": "3094def7-b48d-4699-ecfb-1973033daca4"
      },
      "source": [
        "plt.figure(figsize=(12,10))\n",
        "\n",
        "plt.subplot(231)\n",
        "sns.heatmap(pd.DataFrame(Tdemographics.isnull().sum()/Tdemographics.shape[0]*100),annot=True,\n",
        "            cmap=sns.color_palette(\"cool\"),linewidth=1,linecolor=\"white\")\n",
        "plt.title(\"demographics\")\n",
        "\n",
        "plt.subplot(232)\n",
        "sns.heatmap(pd.DataFrame(Tprevious.isnull().sum()/Tprevious.shape[0]*100),annot=True,\n",
        "            cmap=sns.color_palette(\"cool\"),linewidth=1,linecolor=\"white\")\n",
        "plt.title(\"previous\")\n",
        "\n",
        "plt.subplots_adjust(wspace = 1.6)"
      ],
      "execution_count": null,
      "outputs": [
        {
          "output_type": "display_data",
          "data": {
            "image/png": "[encoded data removed]",
            "text/plain": [
              "<Figure size 864x720 with 4 Axes>"
            ]
          },
          "metadata": {
            "tags": [],
            "needs_background": "light"
          }
        }
      ]
    },
    {
      "cell_type": "code",
      "metadata": {
        "id": "cwYRf7_oZ5Kg",
        "colab_type": "code",
        "colab": {
          "base_uri": "https://localhost:8080/",
          "height": 281
        },
        "outputId": "acefa0ed-9fe7-4b65-83bc-071e78f39e64"
      },
      "source": [
        "fig, ax = plt.subplots(1, 2, figsize=(12, 4))\n",
        "Tperfomance[Tperfomance['good_bad_flag'] == 1].loanamount.plot.hist(\n",
        "    ax=ax[0], bins=20, edgecolor='black', color='green')\n",
        "ax[0].set_title('Repayers')\n",
        "Tperfomance[Tperfomance['good_bad_flag'] == 0].loanamount.plot.hist(\n",
        "    ax=ax[1], color='red', bins=20, edgecolor='black')\n",
        "ax[1].set_title('Defaulters')\n",
        "fig.set_facecolor(\"lightgrey\")\n",
        "plt.show()"
      ],
      "execution_count": null,
      "outputs": [
        {
          "output_type": "display_data",
          "data": {
            "image/png": "[encoded data removed]",
            "text/plain": [
              "<Figure size 864x288 with 2 Axes>"
            ]
          },
          "metadata": {
            "tags": []
          }
        }
      ]
    },
    {
      "cell_type": "markdown",
      "metadata": {
        "id": "m1dYMk2Mj9-O",
        "colab_type": "text"
      },
      "source": [
        "## Feature Engineering"
      ]
    },
    {
      "cell_type": "code",
      "metadata": {
        "id": "6wIHHGWbkBeR",
        "colab_type": "code",
        "colab": {
          "base_uri": "https://localhost:8080/",
          "height": 191
        },
        "outputId": "f4916f02-62fd-47a1-acaf-727ae14718d3"
      },
      "source": [
        "Tprevious.head()"
      ],
      "execution_count": null,
      "outputs": [
        {
          "output_type": "execute_result",
          "data": {
            "text/html": [
              "<div>\n",
              "<style scoped>\n",
              "    .dataframe tbody tr th:only-of-type {\n",
              "        vertical-align: middle;\n",
              "    }\n",
              "\n",
              "    .dataframe tbody tr th {\n",
              "        vertical-align: top;\n",
              "    }\n",
              "\n",
              "    .dataframe thead th {\n",
              "        text-align: right;\n",
              "    }\n",
              "</style>\n",
              "<table border=\"1\" class=\"dataframe\">\n",
              "  <thead>\n",
              "    <tr style=\"text-align: right;\">\n",
              "      <th></th>\n",
              "      <th>customerid</th>\n",
              "      <th>systemloanid</th>\n",
              "      <th>loannumber</th>\n",
              "      <th>approveddate</th>\n",
              "      <th>creationdate</th>\n",
              "      <th>loanamount</th>\n",
              "      <th>totaldue</th>\n",
              "      <th>termdays</th>\n",
              "      <th>closeddate</th>\n",
              "      <th>referredby</th>\n",
              "      <th>firstduedate</th>\n",
              "      <th>firstrepaiddate</th>\n",
              "      <th>set</th>\n",
              "    </tr>\n",
              "  </thead>\n",
              "  <tbody>\n",
              "    <tr>\n",
              "      <th>0</th>\n",
              "      <td>8a2a81a74ce8c05d014cfb32a0da1049</td>\n",
              "      <td>301682320</td>\n",
              "      <td>2</td>\n",
              "      <td>2016-08-15 18:22:40</td>\n",
              "      <td>2016-08-15 17:22:32</td>\n",
              "      <td>10000.0</td>\n",
              "      <td>13000.0</td>\n",
              "      <td>30</td>\n",
              "      <td>2016-09-01 16:06:48</td>\n",
              "      <td>NaN</td>\n",
              "      <td>2016-09-14</td>\n",
              "      <td>2016-09-01 15:51:43</td>\n",
              "      <td>train</td>\n",
              "    </tr>\n",
              "    <tr>\n",
              "      <th>1</th>\n",
              "      <td>8a2a81a74ce8c05d014cfb32a0da1049</td>\n",
              "      <td>301883808</td>\n",
              "      <td>9</td>\n",
              "      <td>2017-04-28 18:39:07</td>\n",
              "      <td>2017-04-28 17:38:53</td>\n",
              "      <td>10000.0</td>\n",
              "      <td>13000.0</td>\n",
              "      <td>30</td>\n",
              "      <td>2017-05-28 14:44:49</td>\n",
              "      <td>NaN</td>\n",
              "      <td>2017-05-30</td>\n",
              "      <td>2017-05-26 00:00:00</td>\n",
              "      <td>train</td>\n",
              "    </tr>\n",
              "    <tr>\n",
              "      <th>2</th>\n",
              "      <td>8a2a81a74ce8c05d014cfb32a0da1049</td>\n",
              "      <td>301831714</td>\n",
              "      <td>8</td>\n",
              "      <td>2017-03-05 10:56:25</td>\n",
              "      <td>2017-03-05 09:56:19</td>\n",
              "      <td>20000.0</td>\n",
              "      <td>23800.0</td>\n",
              "      <td>30</td>\n",
              "      <td>2017-04-26 22:18:56</td>\n",
              "      <td>NaN</td>\n",
              "      <td>2017-04-04</td>\n",
              "      <td>2017-04-26 22:03:47</td>\n",
              "      <td>train</td>\n",
              "    </tr>\n",
              "    <tr>\n",
              "      <th>3</th>\n",
              "      <td>8a8588f35438fe12015444567666018e</td>\n",
              "      <td>301861541</td>\n",
              "      <td>5</td>\n",
              "      <td>2017-04-09 18:25:55</td>\n",
              "      <td>2017-04-09 17:25:42</td>\n",
              "      <td>10000.0</td>\n",
              "      <td>11500.0</td>\n",
              "      <td>15</td>\n",
              "      <td>2017-04-24 01:35:52</td>\n",
              "      <td>NaN</td>\n",
              "      <td>2017-04-24</td>\n",
              "      <td>2017-04-24 00:48:43</td>\n",
              "      <td>train</td>\n",
              "    </tr>\n",
              "    <tr>\n",
              "      <th>4</th>\n",
              "      <td>8a85890754145ace015429211b513e16</td>\n",
              "      <td>301941754</td>\n",
              "      <td>2</td>\n",
              "      <td>2017-06-17 09:29:57</td>\n",
              "      <td>2017-06-17 08:29:50</td>\n",
              "      <td>10000.0</td>\n",
              "      <td>11500.0</td>\n",
              "      <td>15</td>\n",
              "      <td>2017-07-14 21:18:43</td>\n",
              "      <td>NaN</td>\n",
              "      <td>2017-07-03</td>\n",
              "      <td>2017-07-14 21:08:35</td>\n",
              "      <td>train</td>\n",
              "    </tr>\n",
              "  </tbody>\n",
              "</table>\n",
              "</div>"
            ],
            "text/plain": [
              "                         customerid  systemloanid  ...     firstrepaiddate    set\n",
              "0  8a2a81a74ce8c05d014cfb32a0da1049     301682320  ... 2016-09-01 15:51:43  train\n",
              "1  8a2a81a74ce8c05d014cfb32a0da1049     301883808  ... 2017-05-26 00:00:00  train\n",
              "2  8a2a81a74ce8c05d014cfb32a0da1049     301831714  ... 2017-04-26 22:03:47  train\n",
              "3  8a8588f35438fe12015444567666018e     301861541  ... 2017-04-24 00:48:43  train\n",
              "4  8a85890754145ace015429211b513e16     301941754  ... 2017-07-14 21:08:35  train\n",
              "\n",
              "[5 rows x 13 columns]"
            ]
          },
          "metadata": {
            "tags": []
          },
          "execution_count": 17
        }
      ]
    },
    {
      "cell_type": "code",
      "metadata": {
        "id": "t1kcQiaUkCHl",
        "colab_type": "code",
        "colab": {
          "base_uri": "https://localhost:8080/",
          "height": 66
        },
        "outputId": "dd9517f1-4961-40c0-ac91-da877c5702bb"
      },
      "source": [
        "Tprevious.loanamount.unique()"
      ],
      "execution_count": null,
      "outputs": [
        {
          "output_type": "execute_result",
          "data": {
            "text/plain": [
              "array([10000., 20000., 30000., 40000., 25000., 15000.,  5000.,  8000.,\n",
              "       50000.,  9000., 35000.,  7000.,  4000.,  6000.,  3000., 60000.,\n",
              "        1000.,  2000.])"
            ]
          },
          "metadata": {
            "tags": []
          },
          "execution_count": 18
        }
      ]
    },
    {
      "cell_type": "code",
      "metadata": {
        "id": "eF1TqGWQkCMl",
        "colab_type": "code",
        "colab": {}
      },
      "source": [
        "Tprevious['loanapproval'] = Tprevious['approveddate'] - Tprevious['creationdate']"
      ],
      "execution_count": null,
      "outputs": []
    },
    {
      "cell_type": "code",
      "metadata": {
        "id": "FudDx-Fho3VD",
        "colab_type": "code",
        "colab": {}
      },
      "source": [
        "import datetime as dt\n",
        "Tprevious['loanapproval'] = Tprevious['loanapproval']/np.timedelta64(1,'h')"
      ],
      "execution_count": null,
      "outputs": []
    },
    {
      "cell_type": "code",
      "metadata": {
        "id": "ge8Q7y6fkCFQ",
        "colab_type": "code",
        "colab": {
          "base_uri": "https://localhost:8080/",
          "height": 513
        },
        "outputId": "5720a31d-0de1-4a8a-c6f5-24a26604254b"
      },
      "source": [
        "plt.figure(figsize=(10.0, 8.0))\n",
        "sns.scatterplot(Tprevious['loanapproval'], Tprevious['loanamount'])"
      ],
      "execution_count": null,
      "outputs": [
        {
          "output_type": "execute_result",
          "data": {
            "text/plain": [
              "<matplotlib.axes._subplots.AxesSubplot at 0x7f6978c1eeb8>"
            ]
          },
          "metadata": {
            "tags": []
          },
          "execution_count": 21
        },
        {
          "output_type": "display_data",
          "data": {
            "image/png": "[encoded data removed]",
            "text/plain": [
              "<Figure size 720x576 with 1 Axes>"
            ]
          },
          "metadata": {
            "tags": [],
            "needs_background": "light"
          }
        }
      ]
    },
    {
      "cell_type": "code",
      "metadata": {
        "id": "p3ENsYVukB74",
        "colab_type": "code",
        "colab": {}
      },
      "source": [
        "averageloanamount = Tprevious.groupby('customerid')['loanamount'].mean().to_frame().reset_index()\n",
        "averageloanamount.rename(columns={'loanamount': 'average_loanamount'}, inplace=True)\n",
        "Tprevious = pd.merge(Tprevious, averageloanamount, how='left', on='customerid')"
      ],
      "execution_count": null,
      "outputs": []
    },
    {
      "cell_type": "code",
      "metadata": {
        "id": "OhEPyjwckByd",
        "colab_type": "code",
        "colab": {}
      },
      "source": [
        "num_loans = Tprevious.groupby('customerid')['systemloanid'].count().to_frame().reset_index()\n",
        "num_loans.rename(columns = {'systemloanid': 'num_loans'}, inplace=True)\n",
        "Tprevious = pd.merge(Tprevious, num_loans, how='left', on='customerid')"
      ],
      "execution_count": null,
      "outputs": []
    },
    {
      "cell_type": "code",
      "metadata": {
        "id": "5e_XUHxhJt4T",
        "colab_type": "code",
        "colab": {}
      },
      "source": [
        "Tprevious['firstrepaiddate'] = Tprevious['firstrepaiddate'].astype('datetime64[ns]')\n",
        "Tprevious['diff'] = (Tprevious['firstrepaiddate'] - Tprevious['firstduedate']).dt.days"
      ],
      "execution_count": null,
      "outputs": []
    },
    {
      "cell_type": "code",
      "metadata": {
        "id": "eQRwm7ZpkB-P",
        "colab_type": "code",
        "colab": {}
      },
      "source": [
        "average_diff = Tprevious.groupby('customerid')['diff'].mean().to_frame().reset_index()\n",
        "average_diff.rename(columns={'diff':'average_diff'}, inplace=True)\n",
        "Tprevious = pd.merge(Tprevious, average_diff, how='left', on='customerid')"
      ],
      "execution_count": null,
      "outputs": []
    },
    {
      "cell_type": "code",
      "metadata": {
        "id": "Kw_V0wh31Y3q",
        "colab_type": "code",
        "colab": {
          "base_uri": "https://localhost:8080/",
          "height": 292
        },
        "outputId": "2433f9c5-be8b-4a1e-e98a-a4aa53696314"
      },
      "source": [
        "Tprevious.head()"
      ],
      "execution_count": null,
      "outputs": [
        {
          "output_type": "execute_result",
          "data": {
            "text/html": [
              "<div>\n",
              "<style scoped>\n",
              "    .dataframe tbody tr th:only-of-type {\n",
              "        vertical-align: middle;\n",
              "    }\n",
              "\n",
              "    .dataframe tbody tr th {\n",
              "        vertical-align: top;\n",
              "    }\n",
              "\n",
              "    .dataframe thead th {\n",
              "        text-align: right;\n",
              "    }\n",
              "</style>\n",
              "<table border=\"1\" class=\"dataframe\">\n",
              "  <thead>\n",
              "    <tr style=\"text-align: right;\">\n",
              "      <th></th>\n",
              "      <th>customerid</th>\n",
              "      <th>systemloanid</th>\n",
              "      <th>loannumber</th>\n",
              "      <th>approveddate</th>\n",
              "      <th>creationdate</th>\n",
              "      <th>loanamount</th>\n",
              "      <th>totaldue</th>\n",
              "      <th>termdays</th>\n",
              "      <th>closeddate</th>\n",
              "      <th>referredby</th>\n",
              "      <th>firstduedate</th>\n",
              "      <th>firstrepaiddate</th>\n",
              "      <th>set</th>\n",
              "      <th>loanapproval</th>\n",
              "      <th>average_loanamount</th>\n",
              "      <th>num_loans</th>\n",
              "      <th>diff</th>\n",
              "      <th>average_diff</th>\n",
              "    </tr>\n",
              "  </thead>\n",
              "  <tbody>\n",
              "    <tr>\n",
              "      <th>0</th>\n",
              "      <td>8a2a81a74ce8c05d014cfb32a0da1049</td>\n",
              "      <td>301682320</td>\n",
              "      <td>2</td>\n",
              "      <td>2016-08-15 18:22:40</td>\n",
              "      <td>2016-08-15 17:22:32</td>\n",
              "      <td>10000.0</td>\n",
              "      <td>13000.0</td>\n",
              "      <td>30</td>\n",
              "      <td>2016-09-01 16:06:48</td>\n",
              "      <td>NaN</td>\n",
              "      <td>2016-09-14</td>\n",
              "      <td>2016-09-01 15:51:43</td>\n",
              "      <td>train</td>\n",
              "      <td>1.002222</td>\n",
              "      <td>18181.818182</td>\n",
              "      <td>11</td>\n",
              "      <td>-13</td>\n",
              "      <td>-0.909091</td>\n",
              "    </tr>\n",
              "    <tr>\n",
              "      <th>1</th>\n",
              "      <td>8a2a81a74ce8c05d014cfb32a0da1049</td>\n",
              "      <td>301883808</td>\n",
              "      <td>9</td>\n",
              "      <td>2017-04-28 18:39:07</td>\n",
              "      <td>2017-04-28 17:38:53</td>\n",
              "      <td>10000.0</td>\n",
              "      <td>13000.0</td>\n",
              "      <td>30</td>\n",
              "      <td>2017-05-28 14:44:49</td>\n",
              "      <td>NaN</td>\n",
              "      <td>2017-05-30</td>\n",
              "      <td>2017-05-26 00:00:00</td>\n",
              "      <td>train</td>\n",
              "      <td>1.003889</td>\n",
              "      <td>18181.818182</td>\n",
              "      <td>11</td>\n",
              "      <td>-4</td>\n",
              "      <td>-0.909091</td>\n",
              "    </tr>\n",
              "    <tr>\n",
              "      <th>2</th>\n",
              "      <td>8a2a81a74ce8c05d014cfb32a0da1049</td>\n",
              "      <td>301831714</td>\n",
              "      <td>8</td>\n",
              "      <td>2017-03-05 10:56:25</td>\n",
              "      <td>2017-03-05 09:56:19</td>\n",
              "      <td>20000.0</td>\n",
              "      <td>23800.0</td>\n",
              "      <td>30</td>\n",
              "      <td>2017-04-26 22:18:56</td>\n",
              "      <td>NaN</td>\n",
              "      <td>2017-04-04</td>\n",
              "      <td>2017-04-26 22:03:47</td>\n",
              "      <td>train</td>\n",
              "      <td>1.001667</td>\n",
              "      <td>18181.818182</td>\n",
              "      <td>11</td>\n",
              "      <td>22</td>\n",
              "      <td>-0.909091</td>\n",
              "    </tr>\n",
              "    <tr>\n",
              "      <th>3</th>\n",
              "      <td>8a8588f35438fe12015444567666018e</td>\n",
              "      <td>301861541</td>\n",
              "      <td>5</td>\n",
              "      <td>2017-04-09 18:25:55</td>\n",
              "      <td>2017-04-09 17:25:42</td>\n",
              "      <td>10000.0</td>\n",
              "      <td>11500.0</td>\n",
              "      <td>15</td>\n",
              "      <td>2017-04-24 01:35:52</td>\n",
              "      <td>NaN</td>\n",
              "      <td>2017-04-24</td>\n",
              "      <td>2017-04-24 00:48:43</td>\n",
              "      <td>train</td>\n",
              "      <td>1.003611</td>\n",
              "      <td>10000.000000</td>\n",
              "      <td>6</td>\n",
              "      <td>0</td>\n",
              "      <td>0.833333</td>\n",
              "    </tr>\n",
              "    <tr>\n",
              "      <th>4</th>\n",
              "      <td>8a85890754145ace015429211b513e16</td>\n",
              "      <td>301941754</td>\n",
              "      <td>2</td>\n",
              "      <td>2017-06-17 09:29:57</td>\n",
              "      <td>2017-06-17 08:29:50</td>\n",
              "      <td>10000.0</td>\n",
              "      <td>11500.0</td>\n",
              "      <td>15</td>\n",
              "      <td>2017-07-14 21:18:43</td>\n",
              "      <td>NaN</td>\n",
              "      <td>2017-07-03</td>\n",
              "      <td>2017-07-14 21:08:35</td>\n",
              "      <td>train</td>\n",
              "      <td>1.001944</td>\n",
              "      <td>10000.000000</td>\n",
              "      <td>2</td>\n",
              "      <td>11</td>\n",
              "      <td>7.500000</td>\n",
              "    </tr>\n",
              "  </tbody>\n",
              "</table>\n",
              "</div>"
            ],
            "text/plain": [
              "                         customerid  systemloanid  ...  diff average_diff\n",
              "0  8a2a81a74ce8c05d014cfb32a0da1049     301682320  ...   -13    -0.909091\n",
              "1  8a2a81a74ce8c05d014cfb32a0da1049     301883808  ...    -4    -0.909091\n",
              "2  8a2a81a74ce8c05d014cfb32a0da1049     301831714  ...    22    -0.909091\n",
              "3  8a8588f35438fe12015444567666018e     301861541  ...     0     0.833333\n",
              "4  8a85890754145ace015429211b513e16     301941754  ...    11     7.500000\n",
              "\n",
              "[5 rows x 18 columns]"
            ]
          },
          "metadata": {
            "tags": []
          },
          "execution_count": 26
        }
      ]
    },
    {
      "cell_type": "code",
      "metadata": {
        "id": "eXdIE95lwB8g",
        "colab_type": "code",
        "colab": {}
      },
      "source": [
        "average_termdays = Tprevious.groupby('customerid')['termdays'].mean().to_frame().reset_index()\n",
        "average_termdays.rename(columns={'termdays':'average_termdays'}, inplace=True)\n",
        "Tprevious = pd.merge(Tprevious, average_termdays, how='left', on='customerid')"
      ],
      "execution_count": null,
      "outputs": []
    },
    {
      "cell_type": "code",
      "metadata": {
        "id": "9p-13UPt-W5p",
        "colab_type": "code",
        "colab": {}
      },
      "source": [
        "average_totaldue = Tprevious.groupby('customerid')['totaldue'].mean().to_frame().reset_index()\n",
        "average_totaldue.rename(columns={'totaldue':'average_totaldue'}, inplace=True)\n",
        "Tprevious = pd.merge(Tprevious, average_totaldue, how='left', on='customerid')"
      ],
      "execution_count": null,
      "outputs": []
    },
    {
      "cell_type": "code",
      "metadata": {
        "id": "hWjS4X6i_H2J",
        "colab_type": "code",
        "colab": {
          "base_uri": "https://localhost:8080/",
          "height": 115
        },
        "outputId": "13ba2d4b-d2a7-4082-c0b6-0b81360f7939"
      },
      "source": [
        "Tprevious.columns"
      ],
      "execution_count": null,
      "outputs": [
        {
          "output_type": "execute_result",
          "data": {
            "text/plain": [
              "Index(['customerid', 'systemloanid', 'loannumber', 'approveddate',\n",
              "       'creationdate', 'loanamount', 'totaldue', 'termdays', 'closeddate',\n",
              "       'referredby', 'firstduedate', 'firstrepaiddate', 'set', 'loanapproval',\n",
              "       'average_loanamount', 'num_loans', 'diff', 'average_diff',\n",
              "       'average_termdays', 'average_totaldue'],\n",
              "      dtype='object')"
            ]
          },
          "metadata": {
            "tags": []
          },
          "execution_count": 29
        }
      ]
    },
    {
      "cell_type": "code",
      "metadata": {
        "id": "xR9mI9xa-XDg",
        "colab_type": "code",
        "colab": {}
      },
      "source": [
        "merge_Tprevious = Tprevious[['customerid', 'loanapproval',\n",
        "       'average_loanamount', 'num_loans','average_diff',\n",
        "       'average_termdays', 'average_totaldue']]"
      ],
      "execution_count": null,
      "outputs": []
    },
    {
      "cell_type": "code",
      "metadata": {
        "id": "R0-S4GYj_6bL",
        "colab_type": "code",
        "colab": {}
      },
      "source": [
        "merge_Tprevious = merge_Tprevious[~merge_Tprevious.customerid.duplicated()]"
      ],
      "execution_count": null,
      "outputs": []
    },
    {
      "cell_type": "code",
      "metadata": {
        "id": "sD2ru0poApdM",
        "colab_type": "code",
        "colab": {
          "base_uri": "https://localhost:8080/",
          "height": 33
        },
        "outputId": "a9793f0d-926c-48e4-9623-5ab514968edc"
      },
      "source": [
        "merge_Tprevious.shape"
      ],
      "execution_count": null,
      "outputs": [
        {
          "output_type": "execute_result",
          "data": {
            "text/plain": [
              "(5801, 7)"
            ]
          },
          "metadata": {
            "tags": []
          },
          "execution_count": 32
        }
      ]
    },
    {
      "cell_type": "code",
      "metadata": {
        "id": "ulPzCuozBLB7",
        "colab_type": "code",
        "colab": {}
      },
      "source": [
        "Tdemographics = Tdemographics[~Tdemographics.customerid.duplicated()]\n",
        "Tdemographics['age']= round((dt.date.today() - Tdemographics.birthdate.dt.date).dt.days/365, 0)\n",
        "Tdemographics.drop('set', axis='columns', inplace=True)  #Dropped set because we will use the set(train/test data) from Tperformance dataset"
      ],
      "execution_count": null,
      "outputs": []
    },
    {
      "cell_type": "code",
      "metadata": {
        "id": "9NWCtNu-Brdp",
        "colab_type": "code",
        "colab": {
          "base_uri": "https://localhost:8080/",
          "height": 33
        },
        "outputId": "e6aff74b-c13c-439d-965c-fb2edf5eb7e2"
      },
      "source": [
        "Tdemographics.shape"
      ],
      "execution_count": null,
      "outputs": [
        {
          "output_type": "execute_result",
          "data": {
            "text/plain": [
              "(5818, 10)"
            ]
          },
          "metadata": {
            "tags": []
          },
          "execution_count": 34
        }
      ]
    },
    {
      "cell_type": "code",
      "metadata": {
        "id": "DXJqUwM7vYTM",
        "colab_type": "code",
        "colab": {}
      },
      "source": [
        "demographics_previous = pd.merge(Tdemographics, merge_Tprevious, on='customerid', how='left')"
      ],
      "execution_count": null,
      "outputs": []
    },
    {
      "cell_type": "code",
      "metadata": {
        "id": "kh7gALABvYi-",
        "colab_type": "code",
        "colab": {
          "base_uri": "https://localhost:8080/",
          "height": 33
        },
        "outputId": "3dd5ba4c-b97a-41af-be4f-43e5592090ec"
      },
      "source": [
        "demographics_previous.shape"
      ],
      "execution_count": null,
      "outputs": [
        {
          "output_type": "execute_result",
          "data": {
            "text/plain": [
              "(5818, 16)"
            ]
          },
          "metadata": {
            "tags": []
          },
          "execution_count": 36
        }
      ]
    },
    {
      "cell_type": "code",
      "metadata": {
        "id": "vyrMh8uLvYup",
        "colab_type": "code",
        "colab": {
          "base_uri": "https://localhost:8080/",
          "height": 292
        },
        "outputId": "04f2c19b-3c5d-402b-a1a9-d6b2fd9285ec"
      },
      "source": [
        "demographics_previous.head(5)"
      ],
      "execution_count": null,
      "outputs": [
        {
          "output_type": "execute_result",
          "data": {
            "text/html": [
              "<div>\n",
              "<style scoped>\n",
              "    .dataframe tbody tr th:only-of-type {\n",
              "        vertical-align: middle;\n",
              "    }\n",
              "\n",
              "    .dataframe tbody tr th {\n",
              "        vertical-align: top;\n",
              "    }\n",
              "\n",
              "    .dataframe thead th {\n",
              "        text-align: right;\n",
              "    }\n",
              "</style>\n",
              "<table border=\"1\" class=\"dataframe\">\n",
              "  <thead>\n",
              "    <tr style=\"text-align: right;\">\n",
              "      <th></th>\n",
              "      <th>customerid</th>\n",
              "      <th>birthdate</th>\n",
              "      <th>bank_account_type</th>\n",
              "      <th>longitude_gps</th>\n",
              "      <th>latitude_gps</th>\n",
              "      <th>bank_name_clients</th>\n",
              "      <th>bank_branch_clients</th>\n",
              "      <th>employment_status_clients</th>\n",
              "      <th>level_of_education_clients</th>\n",
              "      <th>age</th>\n",
              "      <th>loanapproval</th>\n",
              "      <th>average_loanamount</th>\n",
              "      <th>num_loans</th>\n",
              "      <th>average_diff</th>\n",
              "      <th>average_termdays</th>\n",
              "      <th>average_totaldue</th>\n",
              "    </tr>\n",
              "  </thead>\n",
              "  <tbody>\n",
              "    <tr>\n",
              "      <th>0</th>\n",
              "      <td>8a858e135cb22031015cbafc76964ebd</td>\n",
              "      <td>1973-10-10</td>\n",
              "      <td>Savings</td>\n",
              "      <td>3.319219</td>\n",
              "      <td>6.528604</td>\n",
              "      <td>GT Bank</td>\n",
              "      <td>NaN</td>\n",
              "      <td>NaN</td>\n",
              "      <td>NaN</td>\n",
              "      <td>47.0</td>\n",
              "      <td>1.018611</td>\n",
              "      <td>10000.0</td>\n",
              "      <td>1.0</td>\n",
              "      <td>-1.000000</td>\n",
              "      <td>15.0</td>\n",
              "      <td>11500.0</td>\n",
              "    </tr>\n",
              "    <tr>\n",
              "      <th>1</th>\n",
              "      <td>8a858e275c7ea5ec015c82482d7c3996</td>\n",
              "      <td>1986-01-21</td>\n",
              "      <td>Savings</td>\n",
              "      <td>3.325598</td>\n",
              "      <td>7.119403</td>\n",
              "      <td>Sterling Bank</td>\n",
              "      <td>NaN</td>\n",
              "      <td>Permanent</td>\n",
              "      <td>NaN</td>\n",
              "      <td>35.0</td>\n",
              "      <td>1.018889</td>\n",
              "      <td>10000.0</td>\n",
              "      <td>1.0</td>\n",
              "      <td>3.000000</td>\n",
              "      <td>30.0</td>\n",
              "      <td>13000.0</td>\n",
              "    </tr>\n",
              "    <tr>\n",
              "      <th>2</th>\n",
              "      <td>8a858e5b5bd99460015bdc95cd485634</td>\n",
              "      <td>1987-04-01</td>\n",
              "      <td>Savings</td>\n",
              "      <td>5.746100</td>\n",
              "      <td>5.563174</td>\n",
              "      <td>Fidelity Bank</td>\n",
              "      <td>NaN</td>\n",
              "      <td>NaN</td>\n",
              "      <td>NaN</td>\n",
              "      <td>33.0</td>\n",
              "      <td>1.001944</td>\n",
              "      <td>10000.0</td>\n",
              "      <td>3.0</td>\n",
              "      <td>0.333333</td>\n",
              "      <td>20.0</td>\n",
              "      <td>12000.0</td>\n",
              "    </tr>\n",
              "    <tr>\n",
              "      <th>3</th>\n",
              "      <td>8a858efd5ca70688015cabd1f1e94b55</td>\n",
              "      <td>1991-07-19</td>\n",
              "      <td>Savings</td>\n",
              "      <td>3.362850</td>\n",
              "      <td>6.642485</td>\n",
              "      <td>GT Bank</td>\n",
              "      <td>NaN</td>\n",
              "      <td>Permanent</td>\n",
              "      <td>NaN</td>\n",
              "      <td>29.0</td>\n",
              "      <td>1.018889</td>\n",
              "      <td>10000.0</td>\n",
              "      <td>1.0</td>\n",
              "      <td>18.000000</td>\n",
              "      <td>15.0</td>\n",
              "      <td>11500.0</td>\n",
              "    </tr>\n",
              "    <tr>\n",
              "      <th>4</th>\n",
              "      <td>8a858e785acd3412015acd48f4920d04</td>\n",
              "      <td>1982-11-22</td>\n",
              "      <td>Savings</td>\n",
              "      <td>8.455332</td>\n",
              "      <td>11.971410</td>\n",
              "      <td>GT Bank</td>\n",
              "      <td>NaN</td>\n",
              "      <td>Permanent</td>\n",
              "      <td>NaN</td>\n",
              "      <td>38.0</td>\n",
              "      <td>1.001667</td>\n",
              "      <td>12000.0</td>\n",
              "      <td>5.0</td>\n",
              "      <td>-6.800000</td>\n",
              "      <td>15.0</td>\n",
              "      <td>13575.0</td>\n",
              "    </tr>\n",
              "  </tbody>\n",
              "</table>\n",
              "</div>"
            ],
            "text/plain": [
              "                         customerid  ... average_totaldue\n",
              "0  8a858e135cb22031015cbafc76964ebd  ...          11500.0\n",
              "1  8a858e275c7ea5ec015c82482d7c3996  ...          13000.0\n",
              "2  8a858e5b5bd99460015bdc95cd485634  ...          12000.0\n",
              "3  8a858efd5ca70688015cabd1f1e94b55  ...          11500.0\n",
              "4  8a858e785acd3412015acd48f4920d04  ...          13575.0\n",
              "\n",
              "[5 rows x 16 columns]"
            ]
          },
          "metadata": {
            "tags": []
          },
          "execution_count": 37
        }
      ]
    },
    {
      "cell_type": "code",
      "metadata": {
        "id": "NYdz--2AvY8I",
        "colab_type": "code",
        "colab": {
          "base_uri": "https://localhost:8080/",
          "height": 33
        },
        "outputId": "f058d2f0-3859-4391-da34-868e90183b45"
      },
      "source": [
        "Tperfomance.shape"
      ],
      "execution_count": null,
      "outputs": [
        {
          "output_type": "execute_result",
          "data": {
            "text/plain": [
              "(5818, 11)"
            ]
          },
          "metadata": {
            "tags": []
          },
          "execution_count": 38
        }
      ]
    },
    {
      "cell_type": "code",
      "metadata": {
        "id": "diK9PBM6DNri",
        "colab_type": "code",
        "colab": {}
      },
      "source": [
        "final_df = pd.merge(demographics_previous, Tperfomance, on='customerid', how='inner')"
      ],
      "execution_count": null,
      "outputs": []
    },
    {
      "cell_type": "code",
      "metadata": {
        "id": "DYP01RW-DN82",
        "colab_type": "code",
        "colab": {
          "base_uri": "https://localhost:8080/",
          "height": 33
        },
        "outputId": "847ae272-1de9-420a-b2d2-91eb121906e2"
      },
      "source": [
        "final_df.shape"
      ],
      "execution_count": null,
      "outputs": [
        {
          "output_type": "execute_result",
          "data": {
            "text/plain": [
              "(5818, 26)"
            ]
          },
          "metadata": {
            "tags": []
          },
          "execution_count": 40
        }
      ]
    },
    {
      "cell_type": "code",
      "metadata": {
        "id": "-OVALLh4DuoT",
        "colab_type": "code",
        "colab": {
          "base_uri": "https://localhost:8080/",
          "height": 456
        },
        "outputId": "a05064c5-700c-4136-d016-74fa3bbccd77"
      },
      "source": [
        "final_df.isnull().sum().sort_values(ascending=False)/final_df.shape[0] * 100"
      ],
      "execution_count": null,
      "outputs": [
        {
          "output_type": "execute_result",
          "data": {
            "text/plain": [
              "bank_branch_clients           98.882778\n",
              "referredby                    86.748023\n",
              "level_of_education_clients    86.335510\n",
              "good_bad_flag                 24.922654\n",
              "employment_status_clients     14.867652\n",
              "num_loans                      0.292197\n",
              "average_totaldue               0.292197\n",
              "average_termdays               0.292197\n",
              "average_diff                   0.292197\n",
              "average_loanamount             0.292197\n",
              "loanapproval                   0.292197\n",
              "birthdate                      0.000000\n",
              "bank_account_type              0.000000\n",
              "longitude_gps                  0.000000\n",
              "latitude_gps                   0.000000\n",
              "bank_name_clients              0.000000\n",
              "set                            0.000000\n",
              "age                            0.000000\n",
              "systemloanid                   0.000000\n",
              "loannumber                     0.000000\n",
              "approveddate                   0.000000\n",
              "creationdate                   0.000000\n",
              "loanamount                     0.000000\n",
              "totaldue                       0.000000\n",
              "termdays                       0.000000\n",
              "customerid                     0.000000\n",
              "dtype: float64"
            ]
          },
          "metadata": {
            "tags": []
          },
          "execution_count": 41
        }
      ]
    },
    {
      "cell_type": "code",
      "metadata": {
        "id": "5HggmjzXDu2s",
        "colab_type": "code",
        "colab": {}
      },
      "source": [
        "final_df[['average_diff','average_termdays', 'average_totaldue','num_loans','average_loanamount','loanapproval']] = final_df[['average_diff','average_termdays', 'average_totaldue','num_loans','average_loanamount','loanapproval']].fillna(value=0)"
      ],
      "execution_count": null,
      "outputs": []
    },
    {
      "cell_type": "code",
      "metadata": {
        "id": "fA_ZvTa9G14O",
        "colab_type": "code",
        "colab": {
          "base_uri": "https://localhost:8080/",
          "height": 456
        },
        "outputId": "5ecf3edb-f9f3-4d9a-aaee-f5efa5155f57"
      },
      "source": [
        "final_df.isnull().sum().sort_values(ascending=False)/final_df.shape[0] * 100"
      ],
      "execution_count": null,
      "outputs": [
        {
          "output_type": "execute_result",
          "data": {
            "text/plain": [
              "bank_branch_clients           98.882778\n",
              "referredby                    86.748023\n",
              "level_of_education_clients    86.335510\n",
              "good_bad_flag                 24.922654\n",
              "employment_status_clients     14.867652\n",
              "set                            0.000000\n",
              "average_loanamount             0.000000\n",
              "birthdate                      0.000000\n",
              "bank_account_type              0.000000\n",
              "longitude_gps                  0.000000\n",
              "latitude_gps                   0.000000\n",
              "bank_name_clients              0.000000\n",
              "age                            0.000000\n",
              "loanapproval                   0.000000\n",
              "num_loans                      0.000000\n",
              "average_diff                   0.000000\n",
              "average_termdays               0.000000\n",
              "average_totaldue               0.000000\n",
              "systemloanid                   0.000000\n",
              "loannumber                     0.000000\n",
              "approveddate                   0.000000\n",
              "creationdate                   0.000000\n",
              "loanamount                     0.000000\n",
              "totaldue                       0.000000\n",
              "termdays                       0.000000\n",
              "customerid                     0.000000\n",
              "dtype: float64"
            ]
          },
          "metadata": {
            "tags": []
          },
          "execution_count": 43
        }
      ]
    },
    {
      "cell_type": "code",
      "metadata": {
        "id": "pr6ME9NbeoCv",
        "colab_type": "code",
        "colab": {}
      },
      "source": [
        "final_df = final_df[['customerid', 'age', 'bank_name_clients','bank_account_type', 'bank_branch_clients','longitude_gps',\n",
        "       'latitude_gps', 'employment_status_clients', 'level_of_education_clients', 'loanapproval', 'num_loans','average_loanamount', \n",
        "       'average_termdays', 'average_diff',  'average_totaldue', 'referredby', 'good_bad_flag', 'set']]\n"
      ],
      "execution_count": null,
      "outputs": []
    },
    {
      "cell_type": "code",
      "metadata": {
        "id": "-t0Wx6CXPPTn",
        "colab_type": "code",
        "colab": {
          "base_uri": "https://localhost:8080/",
          "height": 153
        },
        "outputId": "ead863d5-50cf-4fbf-c30b-bc79940d6952"
      },
      "source": [
        "final_df.head(3)"
      ],
      "execution_count": null,
      "outputs": [
        {
          "output_type": "execute_result",
          "data": {
            "text/html": [
              "<div>\n",
              "<style scoped>\n",
              "    .dataframe tbody tr th:only-of-type {\n",
              "        vertical-align: middle;\n",
              "    }\n",
              "\n",
              "    .dataframe tbody tr th {\n",
              "        vertical-align: top;\n",
              "    }\n",
              "\n",
              "    .dataframe thead th {\n",
              "        text-align: right;\n",
              "    }\n",
              "</style>\n",
              "<table border=\"1\" class=\"dataframe\">\n",
              "  <thead>\n",
              "    <tr style=\"text-align: right;\">\n",
              "      <th></th>\n",
              "      <th>customerid</th>\n",
              "      <th>age</th>\n",
              "      <th>bank_name_clients</th>\n",
              "      <th>bank_account_type</th>\n",
              "      <th>bank_branch_clients</th>\n",
              "      <th>longitude_gps</th>\n",
              "      <th>latitude_gps</th>\n",
              "      <th>employment_status_clients</th>\n",
              "      <th>level_of_education_clients</th>\n",
              "      <th>loanapproval</th>\n",
              "      <th>num_loans</th>\n",
              "      <th>average_loanamount</th>\n",
              "      <th>average_termdays</th>\n",
              "      <th>average_diff</th>\n",
              "      <th>average_totaldue</th>\n",
              "      <th>referredby</th>\n",
              "      <th>good_bad_flag</th>\n",
              "      <th>set</th>\n",
              "    </tr>\n",
              "  </thead>\n",
              "  <tbody>\n",
              "    <tr>\n",
              "      <th>0</th>\n",
              "      <td>8a858e135cb22031015cbafc76964ebd</td>\n",
              "      <td>47.0</td>\n",
              "      <td>GT Bank</td>\n",
              "      <td>Savings</td>\n",
              "      <td>NaN</td>\n",
              "      <td>3.319219</td>\n",
              "      <td>6.528604</td>\n",
              "      <td>NaN</td>\n",
              "      <td>NaN</td>\n",
              "      <td>1.018611</td>\n",
              "      <td>1.0</td>\n",
              "      <td>10000.0</td>\n",
              "      <td>15.0</td>\n",
              "      <td>-1.000000</td>\n",
              "      <td>11500.0</td>\n",
              "      <td>8a858899538ddb8e0153a780c56e34bb</td>\n",
              "      <td>1.0</td>\n",
              "      <td>train</td>\n",
              "    </tr>\n",
              "    <tr>\n",
              "      <th>1</th>\n",
              "      <td>8a858e275c7ea5ec015c82482d7c3996</td>\n",
              "      <td>35.0</td>\n",
              "      <td>Sterling Bank</td>\n",
              "      <td>Savings</td>\n",
              "      <td>NaN</td>\n",
              "      <td>3.325598</td>\n",
              "      <td>7.119403</td>\n",
              "      <td>Permanent</td>\n",
              "      <td>NaN</td>\n",
              "      <td>1.018889</td>\n",
              "      <td>1.0</td>\n",
              "      <td>10000.0</td>\n",
              "      <td>30.0</td>\n",
              "      <td>3.000000</td>\n",
              "      <td>13000.0</td>\n",
              "      <td>NaN</td>\n",
              "      <td>0.0</td>\n",
              "      <td>train</td>\n",
              "    </tr>\n",
              "    <tr>\n",
              "      <th>2</th>\n",
              "      <td>8a858e5b5bd99460015bdc95cd485634</td>\n",
              "      <td>33.0</td>\n",
              "      <td>Fidelity Bank</td>\n",
              "      <td>Savings</td>\n",
              "      <td>NaN</td>\n",
              "      <td>5.746100</td>\n",
              "      <td>5.563174</td>\n",
              "      <td>NaN</td>\n",
              "      <td>NaN</td>\n",
              "      <td>1.001944</td>\n",
              "      <td>3.0</td>\n",
              "      <td>10000.0</td>\n",
              "      <td>20.0</td>\n",
              "      <td>0.333333</td>\n",
              "      <td>12000.0</td>\n",
              "      <td>NaN</td>\n",
              "      <td>1.0</td>\n",
              "      <td>train</td>\n",
              "    </tr>\n",
              "  </tbody>\n",
              "</table>\n",
              "</div>"
            ],
            "text/plain": [
              "                         customerid   age  ... good_bad_flag    set\n",
              "0  8a858e135cb22031015cbafc76964ebd  47.0  ...           1.0  train\n",
              "1  8a858e275c7ea5ec015c82482d7c3996  35.0  ...           0.0  train\n",
              "2  8a858e5b5bd99460015bdc95cd485634  33.0  ...           1.0  train\n",
              "\n",
              "[3 rows x 18 columns]"
            ]
          },
          "metadata": {
            "tags": []
          },
          "execution_count": 45
        }
      ]
    },
    {
      "cell_type": "code",
      "metadata": {
        "id": "BQuVCMcTM1GV",
        "colab_type": "code",
        "colab": {}
      },
      "source": [
        "#Filling missing values\n",
        "final_df['bank_branch_clients'].fillna('Unknown', inplace=True)\n",
        "final_df['employment_status_clients'].fillna('Unknown', inplace=True)\n",
        "final_df['good_bad_flag'].fillna('Unknown', inplace=True)"
      ],
      "execution_count": null,
      "outputs": []
    },
    {
      "cell_type": "code",
      "metadata": {
        "id": "EGJ0GlBXTj6H",
        "colab_type": "code",
        "colab": {}
      },
      "source": [
        "final_df.drop('level_of_education_clients', axis='columns', inplace=True)  #Dropped because it has 5023 misssing records"
      ],
      "execution_count": null,
      "outputs": []
    },
    {
      "cell_type": "code",
      "metadata": {
        "id": "puuJUbJPM1CF",
        "colab_type": "code",
        "colab": {
          "base_uri": "https://localhost:8080/",
          "height": 310
        },
        "outputId": "c1b206d7-812a-4982-bf9d-f57e7c016fe2"
      },
      "source": [
        "print(final_df.isnull().sum())\n",
        "final_df.to_csv('final_df')"
      ],
      "execution_count": null,
      "outputs": [
        {
          "output_type": "stream",
          "text": [
            "customerid                      0\n",
            "age                             0\n",
            "bank_name_clients               0\n",
            "bank_account_type               0\n",
            "bank_branch_clients             0\n",
            "longitude_gps                   0\n",
            "latitude_gps                    0\n",
            "employment_status_clients       0\n",
            "loanapproval                    0\n",
            "num_loans                       0\n",
            "average_loanamount              0\n",
            "average_termdays                0\n",
            "average_diff                    0\n",
            "average_totaldue                0\n",
            "referredby                   5047\n",
            "good_bad_flag                   0\n",
            "set                             0\n",
            "dtype: int64\n"
          ],
          "name": "stdout"
        }
      ]
    },
    {
      "cell_type": "code",
      "metadata": {
        "id": "2kQAzasWcCC9",
        "colab_type": "code",
        "colab": {
          "base_uri": "https://localhost:8080/",
          "height": 153
        },
        "outputId": "a4858362-f807-49e7-b079-f8a8b4a12cef"
      },
      "source": [
        "final_df.head(3)"
      ],
      "execution_count": null,
      "outputs": [
        {
          "output_type": "execute_result",
          "data": {
            "text/html": [
              "<div>\n",
              "<style scoped>\n",
              "    .dataframe tbody tr th:only-of-type {\n",
              "        vertical-align: middle;\n",
              "    }\n",
              "\n",
              "    .dataframe tbody tr th {\n",
              "        vertical-align: top;\n",
              "    }\n",
              "\n",
              "    .dataframe thead th {\n",
              "        text-align: right;\n",
              "    }\n",
              "</style>\n",
              "<table border=\"1\" class=\"dataframe\">\n",
              "  <thead>\n",
              "    <tr style=\"text-align: right;\">\n",
              "      <th></th>\n",
              "      <th>customerid</th>\n",
              "      <th>age</th>\n",
              "      <th>bank_name_clients</th>\n",
              "      <th>bank_account_type</th>\n",
              "      <th>bank_branch_clients</th>\n",
              "      <th>longitude_gps</th>\n",
              "      <th>latitude_gps</th>\n",
              "      <th>employment_status_clients</th>\n",
              "      <th>loanapproval</th>\n",
              "      <th>num_loans</th>\n",
              "      <th>average_loanamount</th>\n",
              "      <th>average_termdays</th>\n",
              "      <th>average_diff</th>\n",
              "      <th>average_totaldue</th>\n",
              "      <th>referredby</th>\n",
              "      <th>good_bad_flag</th>\n",
              "      <th>set</th>\n",
              "    </tr>\n",
              "  </thead>\n",
              "  <tbody>\n",
              "    <tr>\n",
              "      <th>0</th>\n",
              "      <td>8a858e135cb22031015cbafc76964ebd</td>\n",
              "      <td>47.0</td>\n",
              "      <td>GT Bank</td>\n",
              "      <td>Savings</td>\n",
              "      <td>Unknown</td>\n",
              "      <td>3.319219</td>\n",
              "      <td>6.528604</td>\n",
              "      <td>Unknown</td>\n",
              "      <td>1.018611</td>\n",
              "      <td>1.0</td>\n",
              "      <td>10000.0</td>\n",
              "      <td>15.0</td>\n",
              "      <td>-1.000000</td>\n",
              "      <td>11500.0</td>\n",
              "      <td>8a858899538ddb8e0153a780c56e34bb</td>\n",
              "      <td>1</td>\n",
              "      <td>train</td>\n",
              "    </tr>\n",
              "    <tr>\n",
              "      <th>1</th>\n",
              "      <td>8a858e275c7ea5ec015c82482d7c3996</td>\n",
              "      <td>35.0</td>\n",
              "      <td>Sterling Bank</td>\n",
              "      <td>Savings</td>\n",
              "      <td>Unknown</td>\n",
              "      <td>3.325598</td>\n",
              "      <td>7.119403</td>\n",
              "      <td>Permanent</td>\n",
              "      <td>1.018889</td>\n",
              "      <td>1.0</td>\n",
              "      <td>10000.0</td>\n",
              "      <td>30.0</td>\n",
              "      <td>3.000000</td>\n",
              "      <td>13000.0</td>\n",
              "      <td>NaN</td>\n",
              "      <td>0</td>\n",
              "      <td>train</td>\n",
              "    </tr>\n",
              "    <tr>\n",
              "      <th>2</th>\n",
              "      <td>8a858e5b5bd99460015bdc95cd485634</td>\n",
              "      <td>33.0</td>\n",
              "      <td>Fidelity Bank</td>\n",
              "      <td>Savings</td>\n",
              "      <td>Unknown</td>\n",
              "      <td>5.746100</td>\n",
              "      <td>5.563174</td>\n",
              "      <td>Unknown</td>\n",
              "      <td>1.001944</td>\n",
              "      <td>3.0</td>\n",
              "      <td>10000.0</td>\n",
              "      <td>20.0</td>\n",
              "      <td>0.333333</td>\n",
              "      <td>12000.0</td>\n",
              "      <td>NaN</td>\n",
              "      <td>1</td>\n",
              "      <td>train</td>\n",
              "    </tr>\n",
              "  </tbody>\n",
              "</table>\n",
              "</div>"
            ],
            "text/plain": [
              "                         customerid   age  ... good_bad_flag    set\n",
              "0  8a858e135cb22031015cbafc76964ebd  47.0  ...             1  train\n",
              "1  8a858e275c7ea5ec015c82482d7c3996  35.0  ...             0  train\n",
              "2  8a858e5b5bd99460015bdc95cd485634  33.0  ...             1  train\n",
              "\n",
              "[3 rows x 17 columns]"
            ]
          },
          "metadata": {
            "tags": []
          },
          "execution_count": 49
        }
      ]
    },
    {
      "cell_type": "code",
      "metadata": {
        "id": "UMQSEC58snHk",
        "colab_type": "code",
        "colab": {
          "base_uri": "https://localhost:8080/",
          "height": 943
        },
        "outputId": "c48ec15c-df33-4ba6-b6e0-7dfe51c93c78"
      },
      "source": [
        "#Detecting outliers\n",
        "\n",
        "# Checking for Outliers\n",
        "fig, ((ax1, ax2, ax3, ax4), (ax5, ax6, ax7, ax8)) = plt.subplots(2,4, figsize=(20, 14))\n",
        "fig.suptitle('Boxplots')\n",
        "ax1.set_xlabel('xlabel',fontsize=14)\n",
        "ax2.set_xlabel('xlabel',fontsize=14)\n",
        "ax3.set_xlabel('xlabel',fontsize=14)\n",
        "ax4.set_xlabel('xlabel',fontsize=14)\n",
        "ax5.set_xlabel('xlabel',fontsize=14)\n",
        "ax6.set_xlabel('xlabel',fontsize=14)\n",
        "ax7.set_xlabel('xlabel',fontsize=14)\n",
        "ax8.set_xlabel('xlabel',fontsize=14)\n",
        "sns.boxplot(final_df['loanapproval'], ax=ax1)\n",
        "sns.boxplot(final_df['num_loans'], ax=ax2)\n",
        "sns.boxplot(final_df['average_loanamount'], ax=ax3)\n",
        "sns.boxplot(final_df['average_termdays'], ax=ax4)\n",
        "sns.boxplot(final_df['average_diff'], ax=ax5)\n",
        "sns.boxplot(final_df['average_totaldue'], ax=ax6)\n",
        "sns.boxplot(final_df['age'], ax=ax7)\n",
        "\n"
      ],
      "execution_count": null,
      "outputs": [
        {
          "output_type": "execute_result",
          "data": {
            "text/plain": [
              "<matplotlib.axes._subplots.AxesSubplot at 0x7f697491e860>"
            ]
          },
          "metadata": {
            "tags": []
          },
          "execution_count": 50
        },
        {
          "output_type": "display_data",
          "data": {
            "image/png": "[encoded data removed]",
            "text/plain": [
              "<Figure size 1440x1008 with 8 Axes>"
            ]
          },
          "metadata": {
            "tags": [],
            "needs_background": "light"
          }
        }
      ]
    },
    {
      "cell_type": "code",
      "metadata": {
        "id": "e7VmPEpEIsaR",
        "colab_type": "code",
        "colab": {
          "base_uri": "https://localhost:8080/",
          "height": 586
        },
        "outputId": "788bb81d-7390-48fa-b65f-e28088404ba2"
      },
      "source": [
        "# Calculating our first, third quantiles and then later our IQR\n",
        "\n",
        "#\n",
        "Q1= final_df.quantile(0.25)\n",
        "Q3 =final_df.quantile(0.75)\n",
        "IQR = Q3-Q1\n",
        "print('0.25 quatile')\n",
        "print(Q1)\n",
        "print('----------------------------------------')\n",
        "print('0.75 quatile')\n",
        "print(Q3)\n",
        "print('----------------------------------------')\n",
        "print('Interquatile')\n",
        "print(IQR)"
      ],
      "execution_count": null,
      "outputs": [
        {
          "output_type": "stream",
          "text": [
            "0.25 quatile\n",
            "age                      32.000000\n",
            "longitude_gps             3.354953\n",
            "latitude_gps              6.473605\n",
            "loanapproval              1.001944\n",
            "num_loans                 1.000000\n",
            "average_loanamount    10000.000000\n",
            "average_termdays         20.000000\n",
            "average_diff             -5.444444\n",
            "average_totaldue      12250.000000\n",
            "Name: 0.25, dtype: float64\n",
            "----------------------------------------\n",
            "0.75 quatile\n",
            "age                      40.000000\n",
            "longitude_gps             6.556336\n",
            "latitude_gps              7.426570\n",
            "loanapproval              1.018611\n",
            "num_loans                 6.000000\n",
            "average_loanamount    14166.666667\n",
            "average_termdays         30.000000\n",
            "average_diff              0.000000\n",
            "average_totaldue      17218.750000\n",
            "Name: 0.75, dtype: float64\n",
            "----------------------------------------\n",
            "Interquatile\n",
            "age                      8.000000\n",
            "longitude_gps            3.201383\n",
            "latitude_gps             0.952965\n",
            "loanapproval             0.016667\n",
            "num_loans                5.000000\n",
            "average_loanamount    4166.666667\n",
            "average_termdays        10.000000\n",
            "average_diff             5.444444\n",
            "average_totaldue      4968.750000\n",
            "dtype: float64\n"
          ],
          "name": "stdout"
        }
      ]
    },
    {
      "cell_type": "markdown",
      "metadata": {
        "id": "97PBy3pIU4Z8",
        "colab_type": "text"
      },
      "source": [
        "## Univariate Analysis "
      ]
    },
    {
      "cell_type": "code",
      "metadata": {
        "id": "A4-lCa5OVPwC",
        "colab_type": "code",
        "colab": {
          "base_uri": "https://localhost:8080/",
          "height": 830
        },
        "outputId": "1998477c-7777-4329-9338-2c5fb33ab91b"
      },
      "source": [
        "#Descriptive Analysis \n",
        "print('Variance of values in different columns')\n",
        "print(final_df.var())\n",
        "print('Skewness of values in different columns')\n",
        "print(final_df.skew())\n",
        "print('Kurtosis of values in different columns')\n",
        "print(final_df.kurt())\n",
        "print('Summary')\n",
        "final_df.describe()\n"
      ],
      "execution_count": null,
      "outputs": [
        {
          "output_type": "stream",
          "text": [
            "Variance of values in different columns\n",
            "age                   3.829444e+01\n",
            "longitude_gps         4.876899e+01\n",
            "latitude_gps          9.285362e+00\n",
            "loanapproval          9.873541e-01\n",
            "num_loans             1.339470e+01\n",
            "average_loanamount    2.330024e+07\n",
            "average_termdays      4.843330e+01\n",
            "average_diff          6.113570e+01\n",
            "average_totaldue      2.913803e+07\n",
            "dtype: float64\n",
            "Skewness of values in different columns\n",
            "age                    0.680720\n",
            "longitude_gps         -4.953080\n",
            "latitude_gps           4.936300\n",
            "loanapproval          28.461298\n",
            "num_loans              1.366874\n",
            "average_loanamount     1.693166\n",
            "average_termdays      -0.169311\n",
            "average_diff           2.858254\n",
            "average_totaldue       1.631172\n",
            "dtype: float64\n",
            "Kurtosis of values in different columns\n",
            "age                     0.472441\n",
            "longitude_gps         223.222967\n",
            "latitude_gps          214.389552\n",
            "loanapproval          905.831280\n",
            "num_loans               1.899798\n",
            "average_loanamount      2.463542\n",
            "average_termdays        0.178839\n",
            "average_diff           39.679895\n",
            "average_totaldue        2.411608\n",
            "dtype: float64\n",
            "Summary\n"
          ],
          "name": "stdout"
        },
        {
          "output_type": "execute_result",
          "data": {
            "text/html": [
              "<div>\n",
              "<style scoped>\n",
              "    .dataframe tbody tr th:only-of-type {\n",
              "        vertical-align: middle;\n",
              "    }\n",
              "\n",
              "    .dataframe tbody tr th {\n",
              "        vertical-align: top;\n",
              "    }\n",
              "\n",
              "    .dataframe thead th {\n",
              "        text-align: right;\n",
              "    }\n",
              "</style>\n",
              "<table border=\"1\" class=\"dataframe\">\n",
              "  <thead>\n",
              "    <tr style=\"text-align: right;\">\n",
              "      <th></th>\n",
              "      <th>age</th>\n",
              "      <th>longitude_gps</th>\n",
              "      <th>latitude_gps</th>\n",
              "      <th>loanapproval</th>\n",
              "      <th>num_loans</th>\n",
              "      <th>average_loanamount</th>\n",
              "      <th>average_termdays</th>\n",
              "      <th>average_diff</th>\n",
              "      <th>average_totaldue</th>\n",
              "    </tr>\n",
              "  </thead>\n",
              "  <tbody>\n",
              "    <tr>\n",
              "      <th>count</th>\n",
              "      <td>5818.000000</td>\n",
              "      <td>5818.000000</td>\n",
              "      <td>5818.000000</td>\n",
              "      <td>5818.000000</td>\n",
              "      <td>5818.000000</td>\n",
              "      <td>5818.000000</td>\n",
              "      <td>5818.000000</td>\n",
              "      <td>5818.000000</td>\n",
              "      <td>5818.000000</td>\n",
              "    </tr>\n",
              "    <tr>\n",
              "      <th>mean</th>\n",
              "      <td>36.161224</td>\n",
              "      <td>4.576024</td>\n",
              "      <td>7.220867</td>\n",
              "      <td>1.056481</td>\n",
              "      <td>4.140598</td>\n",
              "      <td>12816.342453</td>\n",
              "      <td>25.294889</td>\n",
              "      <td>-2.330241</td>\n",
              "      <td>15537.558471</td>\n",
              "    </tr>\n",
              "    <tr>\n",
              "      <th>std</th>\n",
              "      <td>6.188250</td>\n",
              "      <td>6.983480</td>\n",
              "      <td>3.047189</td>\n",
              "      <td>0.993657</td>\n",
              "      <td>3.659878</td>\n",
              "      <td>4827.031846</td>\n",
              "      <td>6.959403</td>\n",
              "      <td>7.818932</td>\n",
              "      <td>5397.965322</td>\n",
              "    </tr>\n",
              "    <tr>\n",
              "      <th>min</th>\n",
              "      <td>24.000000</td>\n",
              "      <td>-149.033700</td>\n",
              "      <td>-74.005974</td>\n",
              "      <td>0.000000</td>\n",
              "      <td>0.000000</td>\n",
              "      <td>0.000000</td>\n",
              "      <td>0.000000</td>\n",
              "      <td>-63.000000</td>\n",
              "      <td>0.000000</td>\n",
              "    </tr>\n",
              "    <tr>\n",
              "      <th>25%</th>\n",
              "      <td>32.000000</td>\n",
              "      <td>3.354953</td>\n",
              "      <td>6.473605</td>\n",
              "      <td>1.001944</td>\n",
              "      <td>1.000000</td>\n",
              "      <td>10000.000000</td>\n",
              "      <td>20.000000</td>\n",
              "      <td>-5.444444</td>\n",
              "      <td>12250.000000</td>\n",
              "    </tr>\n",
              "    <tr>\n",
              "      <th>50%</th>\n",
              "      <td>35.000000</td>\n",
              "      <td>3.588480</td>\n",
              "      <td>6.621319</td>\n",
              "      <td>1.003056</td>\n",
              "      <td>3.000000</td>\n",
              "      <td>10000.000000</td>\n",
              "      <td>28.125000</td>\n",
              "      <td>-2.333333</td>\n",
              "      <td>13000.000000</td>\n",
              "    </tr>\n",
              "    <tr>\n",
              "      <th>75%</th>\n",
              "      <td>40.000000</td>\n",
              "      <td>6.556336</td>\n",
              "      <td>7.426570</td>\n",
              "      <td>1.018611</td>\n",
              "      <td>6.000000</td>\n",
              "      <td>14166.666667</td>\n",
              "      <td>30.000000</td>\n",
              "      <td>0.000000</td>\n",
              "      <td>17218.750000</td>\n",
              "    </tr>\n",
              "    <tr>\n",
              "      <th>max</th>\n",
              "      <td>59.000000</td>\n",
              "      <td>151.209290</td>\n",
              "      <td>71.228069</td>\n",
              "      <td>38.591944</td>\n",
              "      <td>33.000000</td>\n",
              "      <td>36666.666667</td>\n",
              "      <td>60.000000</td>\n",
              "      <td>122.000000</td>\n",
              "      <td>41252.380952</td>\n",
              "    </tr>\n",
              "  </tbody>\n",
              "</table>\n",
              "</div>"
            ],
            "text/plain": [
              "               age  longitude_gps  ...  average_diff  average_totaldue\n",
              "count  5818.000000    5818.000000  ...   5818.000000       5818.000000\n",
              "mean     36.161224       4.576024  ...     -2.330241      15537.558471\n",
              "std       6.188250       6.983480  ...      7.818932       5397.965322\n",
              "min      24.000000    -149.033700  ...    -63.000000          0.000000\n",
              "25%      32.000000       3.354953  ...     -5.444444      12250.000000\n",
              "50%      35.000000       3.588480  ...     -2.333333      13000.000000\n",
              "75%      40.000000       6.556336  ...      0.000000      17218.750000\n",
              "max      59.000000     151.209290  ...    122.000000      41252.380952\n",
              "\n",
              "[8 rows x 9 columns]"
            ]
          },
          "metadata": {
            "tags": []
          },
          "execution_count": 52
        }
      ]
    },
    {
      "cell_type": "markdown",
      "metadata": {
        "id": "64Eyr4TaFA06",
        "colab_type": "text"
      },
      "source": [
        "It takes around 1 hour before a loan is approved. However the highest time is 38hoursthat is around 1 day and 14hours which is quite slow. \n",
        "\n",
        "The mean age that borrows money is 36years. This is clearly those who are working and have taken a lot of responsibilities in the past 10 years of their life \n",
        "\n",
        "\n",
        "The average defaulting rate is 2 days which is moderate. Though every lenders goal is to have no-one default as defaulting increases risk of bad debt "
      ]
    },
    {
      "cell_type": "markdown",
      "metadata": {
        "id": "tZh-bkDqU7Kb",
        "colab_type": "text"
      },
      "source": [
        "Previous years analysis"
      ]
    },
    {
      "cell_type": "code",
      "metadata": {
        "id": "2ZyaO2ptJSZl",
        "colab_type": "code",
        "colab": {
          "base_uri": "https://localhost:8080/",
          "height": 1000
        },
        "outputId": "4a174f4f-1ee1-4a5a-d2d4-bf0e67017d91"
      },
      "source": [
        "#Find totals by month in previous years \n",
        "df= Tprevious\n",
        "import datetime \n",
        "from datetime import  datetime\n",
        "df.creationdate.sort_values(ascending=True)\n",
        "df.set_index(pd.DatetimeIndex(df['creationdate']), drop=True, inplace = True)\n",
        "df['profit_by_bank'] =( df.totaldue -df.loanamount)/1000000\n",
        "df=df.groupby([df.index.month]).sum()\n",
        "#Plotting \n",
        "fig, (ax1, ax2, ax3) = plt.subplots(3, figsize=(14, 40))\n",
        "fig.suptitle('Previous year analysis', fontsize=25)\n",
        "plt.xlabel(\"Month\", fontsize=20)\n",
        "ax1.bar(df.index, df.profit_by_bank, color='mediumseagreen')\n",
        "ax1.set_ylabel(\"Fees and interest per month\", fontsize=20)\n",
        "ax1.set_title(\"Profit earned in the previous year in  millions from loans per month \", fontsize=20)\n",
        "ax2.bar(df.index, df.num_loans, color='cadetblue')\n",
        "ax2.set_ylabel(\"Number of loans per month\", fontsize=20)\n",
        "ax2.set_title(\"Total number of loans in the previous year per month \", fontsize=20)\n",
        "ax3.bar(df.index, df.loannumber, color='mediumaquamarine')\n",
        "ax3.set_ylabel(\"Loans predicted per month\", fontsize=20)\n",
        "ax3.set_title(\"Total loans predicted in the previous year per month \", fontsize=20)"
      ],
      "execution_count": null,
      "outputs": [
        {
          "output_type": "execute_result",
          "data": {
            "text/plain": [
              "Text(0.5, 1.0, 'Total loans predicted in the previous year per month ')"
            ]
          },
          "metadata": {
            "tags": []
          },
          "execution_count": 53
        },
        {
          "output_type": "display_data",
          "data": {
            "image/png": "[encoded data removed]",
            "text/plain": [
              "<Figure size 1008x2880 with 3 Axes>"
            ]
          },
          "metadata": {
            "tags": [],
            "needs_background": "light"
          }
        }
      ]
    },
    {
      "cell_type": "markdown",
      "metadata": {
        "id": "8gSzCoQDEVlE",
        "colab_type": "text"
      },
      "source": [
        "**Customers** seem to borrow the most in June and the lowest in July. This might be due to the fact that its the mid year. After mid year. The rate of borrowing significantly decreases "
      ]
    },
    {
      "cell_type": "markdown",
      "metadata": {
        "id": "mqkuSidmVC4K",
        "colab_type": "text"
      },
      "source": [
        "Client Analysis"
      ]
    },
    {
      "cell_type": "code",
      "metadata": {
        "id": "aXdSutwcJhII",
        "colab_type": "code",
        "colab": {
          "base_uri": "https://localhost:8080/",
          "height": 1000
        },
        "outputId": "da93b833-f6ec-4079-b3bc-405410df2231"
      },
      "source": [
        "import matplotlib\n",
        "fig, (ax1, ax2, ax3) = plt.subplots(3, figsize=(40, 40)) \n",
        "fig.suptitle('Clients analysis', fontsize=25)\n",
        "sns.countplot(final_df['employment_status_clients'], color='sienna',saturation=0.5, ax=ax1)\n",
        "sns.countplot(final_df['bank_name_clients'], color='darksalmon',saturation=0.5, ax=ax2 )\n",
        "sns.countplot(final_df['age'], color='indianred',saturation=0.5, ax=ax3)\n",
        "ax1.set_xlabel('Employment status', fontsize=20)\n",
        "ax1.set_ylabel('Count', fontsize=20)\n",
        "ax2.set_xlabel('Banks', fontsize=20)\n",
        "ax2.set_ylabel('Count', fontsize=20)\n",
        "ax3.set_xlabel('age', fontsize=20)\n",
        "ax3.set_ylabel('Count', fontsize=20)"
      ],
      "execution_count": null,
      "outputs": [
        {
          "output_type": "execute_result",
          "data": {
            "text/plain": [
              "Text(0, 0.5, 'Count')"
            ]
          },
          "metadata": {
            "tags": []
          },
          "execution_count": 54
        },
        {
          "output_type": "display_data",
          "data": {
            "image/png": "[encoded data removed]",
            "text/plain": [
              "<Figure size 2880x2880 with 3 Axes>"
            ]
          },
          "metadata": {
            "tags": [],
            "needs_background": "light"
          }
        }
      ]
    },
    {
      "cell_type": "markdown",
      "metadata": {
        "id": "vubtPSQeDeEP",
        "colab_type": "text"
      },
      "source": [
        "**Findings on clients details**\n",
        "\n",
        "\n",
        "Most people that borrow money are permanetely employed\n",
        "\n",
        "GT bank has the highest number of clients that borrow money\n",
        "\n",
        "People between the ages of 30-40 years have the highest borrowing rate \n"
      ]
    },
    {
      "cell_type": "code",
      "metadata": {
        "id": "VwAuRtP8Ne-n",
        "colab_type": "code",
        "colab": {
          "base_uri": "https://localhost:8080/",
          "height": 268
        },
        "outputId": "f1ba3ef8-3eb9-4add-919e-185fc99fcf86"
      },
      "source": [
        "#The type of bank accounts clients own \n",
        "bankaccounttype = final_df[['employment_status_clients','bank_account_type']]\n",
        "new_df = bankaccounttype.groupby('bank_account_type')['employment_status_clients'].count()\n",
        "new_df =pd.DataFrame({'bank_account_type':new_df.index, 'employment_status_clients':new_df.values})\n",
        "new_df\n",
        "employment= new_df['employment_status_clients']\n",
        "bank_account= new_df['bank_account_type']\n",
        "colors_list = ['cyan', 'yellow', 'lightcoral']\n",
        "plt.title(\"Percentage of type of bank accounts clients own\",\n",
        "     color = 'darkolivegreen', fontweight = 'bold', fontsize = '20')\n",
        "plt.pie(employment, labels=bank_account, autopct='%1.1f%%', shadow=True, startangle=140, colors=colors_list)\n",
        "plt.axis('equal')\n",
        "plt.show()"
      ],
      "execution_count": null,
      "outputs": [
        {
          "output_type": "display_data",
          "data": {
            "image/png": "[encoded data removed]",
            "text/plain": [
              "<Figure size 432x288 with 1 Axes>"
            ]
          },
          "metadata": {
            "tags": []
          }
        }
      ]
    },
    {
      "cell_type": "markdown",
      "metadata": {
        "id": "c2fFJZSoDWsZ",
        "colab_type": "text"
      },
      "source": [
        "Most people that borrow own savings accounts.\n",
        "\n",
        "This is a good thing as savings act as securities to most clients \n"
      ]
    },
    {
      "cell_type": "code",
      "metadata": {
        "id": "kJ-FtFl3Nvfq",
        "colab_type": "code",
        "colab": {
          "base_uri": "https://localhost:8080/",
          "height": 962
        },
        "outputId": "b72a8748-aaca-4bdc-ab22-52e31a2c0eed"
      },
      "source": [
        "correlation_mat = final_df.corr()\n",
        "Greaterthan= correlation_mat[correlation_mat > 0.5]\n",
        "plt.show()\n",
        "plt.figure(figsize=(15,15))\n",
        "sns.heatmap(Greaterthan,annot=True )\n",
        "plt.show()"
      ],
      "execution_count": null,
      "outputs": [
        {
          "output_type": "display_data",
          "data": {
            "image/png": "[encoded data removed]",
            "text/plain": [
              "<Figure size 1080x1080 with 2 Axes>"
            ]
          },
          "metadata": {
            "tags": [],
            "needs_background": "light"
          }
        }
      ]
    },
    {
      "cell_type": "markdown",
      "metadata": {
        "id": "bVOoaMugDBTY",
        "colab_type": "text"
      },
      "source": [
        "There is a high correlation between number of loans and how much they borrow. Means that most people continue borrrowing more money as they take new loans "
      ]
    },
    {
      "cell_type": "code",
      "metadata": {
        "id": "HJXlpN79hoBL",
        "colab_type": "code",
        "colab": {
          "base_uri": "https://localhost:8080/",
          "height": 252
        },
        "outputId": "540492e3-b26f-47f0-d9cc-1974e8026a02"
      },
      "source": [
        "plt.figure(figsize=(40,5))\n",
        "sns.barplot(x= 'num_loans', y ='average_loanamount',data= final_df, hue='good_bad_flag')"
      ],
      "execution_count": null,
      "outputs": [
        {
          "output_type": "execute_result",
          "data": {
            "text/plain": [
              "<matplotlib.axes._subplots.AxesSubplot at 0x7f69747aadd8>"
            ]
          },
          "metadata": {
            "tags": []
          },
          "execution_count": 57
        },
        {
          "output_type": "display_data",
          "data": {
            "image/png": "[encoded data removed]",
            "text/plain": [
              "<Figure size 2880x360 with 1 Axes>"
            ]
          },
          "metadata": {
            "tags": [],
            "needs_background": "light"
          }
        }
      ]
    },
    {
      "cell_type": "markdown",
      "metadata": {
        "id": "ZyYeh_ooAzt5",
        "colab_type": "text"
      },
      "source": [
        "**Findings**\n",
        "\n",
        "\n",
        "The number of loans increases with the loanamount they borrow \n",
        "\n",
        "The more they are they borrow loans and the more the loan amount, the more likely they are to be defaulters. For example those who borrowed loans 21 times\n",
        " at an average of 35000 shillings recorded the highest default status \n",
        "\n",
        "\n",
        "However those who borrow less money but borrow more times are good repayers \n",
        "\n",
        "\n",
        "Those who borrow moderately have a 50-50 chance of repaying and defaulting  "
      ]
    },
    {
      "cell_type": "code",
      "metadata": {
        "id": "9HDEregOUDwr",
        "colab_type": "code",
        "colab": {
          "base_uri": "https://localhost:8080/",
          "height": 975
        },
        "outputId": "604a78e7-ca4a-4c9f-c3aa-0b858b7e7cda"
      },
      "source": [
        "plt.figure(figsize=(40,5))\n",
        "cond_plot = sns.FacetGrid(data=final_df, col='employment_status_clients', hue='good_bad_flag', col_wrap=7)\n",
        "cond_plot.map(sns.scatterplot, 'age','num_loans');\n",
        "cond_plot2 = sns.FacetGrid(data=final_df, col='employment_status_clients', hue='good_bad_flag', col_wrap=7)\n",
        "cond_plot2.map(sns.scatterplot, 'age','average_loanamount');\n",
        "cond_plot3 = sns.FacetGrid(data=final_df, col='employment_status_clients', hue='good_bad_flag', col_wrap=7)\n",
        "cond_plot3.map(sns.scatterplot, 'average_termdays','average_loanamount');\n",
        "cond_plot4 = sns.FacetGrid(data=final_df, col='employment_status_clients', hue='good_bad_flag', col_wrap=7)\n",
        "cond_plot4.map(sns.scatterplot, 'age','average_termdays');\n",
        "cond_plot4.fig.legend()"
      ],
      "execution_count": null,
      "outputs": [
        {
          "output_type": "execute_result",
          "data": {
            "text/plain": [
              "<matplotlib.legend.Legend at 0x7f697276ce10>"
            ]
          },
          "metadata": {
            "tags": []
          },
          "execution_count": 58
        },
        {
          "output_type": "display_data",
          "data": {
            "text/plain": [
              "<Figure size 2880x360 with 0 Axes>"
            ]
          },
          "metadata": {
            "tags": []
          }
        },
        {
          "output_type": "display_data",
          "data": {
            "image/png": "[encoded data removed]",
            "text/plain": [
              "<Figure size 1512x216 with 7 Axes>"
            ]
          },
          "metadata": {
            "tags": [],
            "needs_background": "light"
          }
        },
        {
          "output_type": "display_data",
          "data": {
            "image/png": "[encoded data removed]",
            "text/plain": [
              "<Figure size 1512x216 with 7 Axes>"
            ]
          },
          "metadata": {
            "tags": [],
            "needs_background": "light"
          }
        },
        {
          "output_type": "display_data",
          "data": {
            "image/png": "[encoded data removed]",
            "text/plain": [
              "<Figure size 1512x216 with 7 Axes>"
            ]
          },
          "metadata": {
            "tags": [],
            "needs_background": "light"
          }
        },
        {
          "output_type": "display_data",
          "data": {
            "image/png": "[encoded data removed]",
            "text/plain": [
              "<Figure size 1512x216 with 7 Axes>"
            ]
          },
          "metadata": {
            "tags": [],
            "needs_background": "light"
          }
        }
      ]
    },
    {
      "cell_type": "markdown",
      "metadata": {
        "colab_type": "text",
        "id": "cbX8WvoTGB9w"
      },
      "source": [
        "## Hypothesis Testing"
      ]
    },
    {
      "cell_type": "code",
      "metadata": {
        "id": "8seZSyKPONRX",
        "colab_type": "code",
        "colab": {}
      },
      "source": [
        "hypothesis_df = final_df[final_df['set'] == 'train']"
      ],
      "execution_count": null,
      "outputs": []
    },
    {
      "cell_type": "code",
      "metadata": {
        "id": "6YBOOct3Wlo5",
        "colab_type": "code",
        "colab": {
          "base_uri": "https://localhost:8080/",
          "height": 33
        },
        "outputId": "7995e0a6-6aff-4177-c1aa-68529aa5e01e"
      },
      "source": [
        "hypothesis_df.shape"
      ],
      "execution_count": null,
      "outputs": [
        {
          "output_type": "execute_result",
          "data": {
            "text/plain": [
              "(4368, 17)"
            ]
          },
          "metadata": {
            "tags": []
          },
          "execution_count": 60
        }
      ]
    },
    {
      "cell_type": "markdown",
      "metadata": {
        "id": "Tl2CPy0zW9aB",
        "colab_type": "text"
      },
      "source": [
        "- Population size: 4368\n",
        "- Margin of error: 5%\n",
        "- Confidence Level: 95%\n",
        "- Sample size: 354"
      ]
    },
    {
      "cell_type": "code",
      "metadata": {
        "colab_type": "code",
        "id": "BVSHAMrLNuPq",
        "colab": {
          "base_uri": "https://localhost:8080/",
          "height": 50
        },
        "outputId": "7707d1d7-9bac-4206-ce4d-c22bce6a32ca"
      },
      "source": [
        "agebins = [18,30,45,60]\n",
        "labels=['18-30','31-45','46-60']\n",
        "hypothesis_df['agecategory'] = pd.cut(hypothesis_df['age'], bins=agebins, labels=labels, include_lowest=True)\n",
        "hypothesis_df['agecategory'].unique()"
      ],
      "execution_count": null,
      "outputs": [
        {
          "output_type": "execute_result",
          "data": {
            "text/plain": [
              "[46-60, 31-45, 18-30]\n",
              "Categories (3, object): [18-30 < 31-45 < 46-60]"
            ]
          },
          "metadata": {
            "tags": []
          },
          "execution_count": 61
        }
      ]
    },
    {
      "cell_type": "code",
      "metadata": {
        "id": "gMuJlp7GXbbN",
        "colab_type": "code",
        "colab": {}
      },
      "source": [
        "sample_df = hypothesis_df.sample(354)"
      ],
      "execution_count": null,
      "outputs": []
    },
    {
      "cell_type": "markdown",
      "metadata": {
        "id": "n2zQnsBhOCX0",
        "colab_type": "text"
      },
      "source": [
        "- Test 1: Does the age of a customer influence their default behaviour on loans?\n",
        " \n",
        " 1. H0 : Age of customer has no association with their loan default behaviour\n",
        " 2. H1 : Age of a customer has an association with their loan default behaviour"
      ]
    },
    {
      "cell_type": "code",
      "metadata": {
        "id": "GEPqjjH2Teyi",
        "colab_type": "code",
        "colab": {
          "base_uri": "https://localhost:8080/",
          "height": 133
        },
        "outputId": "99cb97c1-b4d5-4fd7-ff75-b838ca2e880a"
      },
      "source": [
        "table_age = pd.crosstab(sample_df['good_bad_flag'], sample_df['agecategory'])\n",
        "table_age"
      ],
      "execution_count": null,
      "outputs": [
        {
          "output_type": "execute_result",
          "data": {
            "text/html": [
              "<div>\n",
              "<style scoped>\n",
              "    .dataframe tbody tr th:only-of-type {\n",
              "        vertical-align: middle;\n",
              "    }\n",
              "\n",
              "    .dataframe tbody tr th {\n",
              "        vertical-align: top;\n",
              "    }\n",
              "\n",
              "    .dataframe thead th {\n",
              "        text-align: right;\n",
              "    }\n",
              "</style>\n",
              "<table border=\"1\" class=\"dataframe\">\n",
              "  <thead>\n",
              "    <tr style=\"text-align: right;\">\n",
              "      <th>agecategory</th>\n",
              "      <th>18-30</th>\n",
              "      <th>31-45</th>\n",
              "      <th>46-60</th>\n",
              "    </tr>\n",
              "    <tr>\n",
              "      <th>good_bad_flag</th>\n",
              "      <th></th>\n",
              "      <th></th>\n",
              "      <th></th>\n",
              "    </tr>\n",
              "  </thead>\n",
              "  <tbody>\n",
              "    <tr>\n",
              "      <th>0.0</th>\n",
              "      <td>14</td>\n",
              "      <td>59</td>\n",
              "      <td>14</td>\n",
              "    </tr>\n",
              "    <tr>\n",
              "      <th>1.0</th>\n",
              "      <td>43</td>\n",
              "      <td>200</td>\n",
              "      <td>24</td>\n",
              "    </tr>\n",
              "  </tbody>\n",
              "</table>\n",
              "</div>"
            ],
            "text/plain": [
              "agecategory    18-30  31-45  46-60\n",
              "good_bad_flag                     \n",
              "0.0               14     59     14\n",
              "1.0               43    200     24"
            ]
          },
          "metadata": {
            "tags": []
          },
          "execution_count": 63
        }
      ]
    },
    {
      "cell_type": "code",
      "metadata": {
        "id": "0PjpocQGUFWX",
        "colab_type": "code",
        "colab": {
          "base_uri": "https://localhost:8080/",
          "height": 33
        },
        "outputId": "2ea8b4e1-db2b-41be-a2fb-fd2b8f72d583"
      },
      "source": [
        "# Perform a chi-square test with alpha 0.05\n",
        "from scipy.stats import chi2_contingency\n",
        "from scipy.stats import chi2\n",
        "\n",
        "stat, p, dof, expected = chi2_contingency(table_age.to_numpy())\n",
        "\n",
        "#Calculate critical value, set significance level to 0.05\n",
        "prob = 0.95\n",
        "critical_value = chi2.ppf(prob, dof)\n",
        "\n",
        "print(f'Critical value: {critical_value}, test_statistic: {stat}, alpha: {1-prob}, p_value: {p}')"
      ],
      "execution_count": null,
      "outputs": [
        {
          "output_type": "stream",
          "text": [
            "Critical value: 5.991464547107979, test_statistic: 3.535162450352401, alpha: 0.050000000000000044, p_value: 0.17074548463657646\n"
          ],
          "name": "stdout"
        }
      ]
    },
    {
      "cell_type": "markdown",
      "metadata": {
        "colab_type": "text",
        "id": "wytkA3bKVmgM"
      },
      "source": [
        "p value is greater than alpha thus lack of significant evidence, we fail to reject the null hypothesis with 95% confidence."
      ]
    },
    {
      "cell_type": "markdown",
      "metadata": {
        "id": "c_dzBqc8Zsd4",
        "colab_type": "text"
      },
      "source": [
        "- Test 2: Does the number of loans that a customer has taken influence their loan default behaviour?\n",
        " 1. H0 = Average number of loans is equal for both good and bad loans\n",
        " 2. H1 = Average number of loans != for good and bad loans"
      ]
    },
    {
      "cell_type": "code",
      "metadata": {
        "id": "rvnIlWUsa3RE",
        "colab_type": "code",
        "colab": {
          "base_uri": "https://localhost:8080/",
          "height": 33
        },
        "outputId": "b8ca81d8-76ad-49fa-99e5-b13815a6e9d1"
      },
      "source": [
        "# Perform a ztest with 95% confidence level\n",
        "from statsmodels.stats.weightstats import ztest\n",
        "\n",
        "stat, p = ztest(sample_df[sample_df['good_bad_flag'] == 1]['num_loans'], sample_df[sample_df['good_bad_flag'] == 0]['num_loans'])\n",
        "\n",
        "print(f'Z statistic: {stat}, p_value: {p}, alpha: 0.05')"
      ],
      "execution_count": null,
      "outputs": [
        {
          "output_type": "stream",
          "text": [
            "Z statistic: 2.587012732760006, p_value: 0.00968120146473318, alpha: 0.05\n"
          ],
          "name": "stdout"
        }
      ]
    },
    {
      "cell_type": "markdown",
      "metadata": {
        "colab_type": "text",
        "id": "6x-pUwNVVvpc"
      },
      "source": [
        "p value is less than alpha thus significant evidence to reject the null hypothesis with 95% confidence."
      ]
    },
    {
      "cell_type": "markdown",
      "metadata": {
        "id": "SQ6Gci62eF0Q",
        "colab_type": "text"
      },
      "source": [
        "- Test 3: Does the average time taken for a customer to pay back a loan influence their loan default behaviour?\n",
        "\n",
        "1. H0: Average number of days to pay back a loan is equal for both good and bad loans.\n",
        "2. H1: Average number of days to pay back a loan is not equal for both good and bad loans."
      ]
    },
    {
      "cell_type": "code",
      "metadata": {
        "id": "c-LalwIGfW5y",
        "colab_type": "code",
        "colab": {
          "base_uri": "https://localhost:8080/",
          "height": 33
        },
        "outputId": "a38559ec-ab07-45c4-90bc-2beaa9313a1e"
      },
      "source": [
        "# Perform a ztest with 95% confidence level\n",
        "from statsmodels.stats.weightstats import ztest\n",
        "\n",
        "stat, p = ztest(sample_df[sample_df['good_bad_flag'] == 1]['average_diff'], sample_df[sample_df['good_bad_flag'] == 0]['average_diff'])\n",
        "\n",
        "print(f'Z statistic: {stat}, p_value: {p}, alpha: 0.05')"
      ],
      "execution_count": null,
      "outputs": [
        {
          "output_type": "stream",
          "text": [
            "Z statistic: -6.448168270256521, p_value: 1.1321003334493063e-10, alpha: 0.05\n"
          ],
          "name": "stdout"
        }
      ]
    },
    {
      "cell_type": "markdown",
      "metadata": {
        "id": "3YO5GC0egoQQ",
        "colab_type": "text"
      },
      "source": [
        "p value is greater than the alpha thus there is lack of significant evidence, we fail to reject the null hypothesis with 95% confidence."
      ]
    },
    {
      "cell_type": "markdown",
      "metadata": {
        "id": "KQWsndHthk1E",
        "colab_type": "text"
      },
      "source": [
        "- Test 4: Does the average time taken for a customer's loan to get approved influence their loan default behaviour?\n",
        "\n",
        "1. H0: Average time to get a loan approved is equal for both good and bad loans.\n",
        "2. H1: Average time to get a loan approved is not equal for both good and bad loans."
      ]
    },
    {
      "cell_type": "code",
      "metadata": {
        "id": "T9nhDsUvh-aH",
        "colab_type": "code",
        "colab": {
          "base_uri": "https://localhost:8080/",
          "height": 33
        },
        "outputId": "7e46ef3a-e86c-4ffe-d394-478762fd6da6"
      },
      "source": [
        "# Perform a ztest with 95% confidence level\n",
        "from statsmodels.stats.weightstats import ztest\n",
        "\n",
        "stat, p = ztest(sample_df[sample_df['good_bad_flag'] == 1]['loanapproval'], sample_df[sample_df['good_bad_flag'] == 0]['loanapproval'])\n",
        "\n",
        "print(f'Z statistic: {stat}, p_value: {p}, alpha: 0.05')"
      ],
      "execution_count": null,
      "outputs": [
        {
          "output_type": "stream",
          "text": [
            "Z statistic: -2.3885700378353825, p_value: 0.01691408409591196, alpha: 0.05\n"
          ],
          "name": "stdout"
        }
      ]
    },
    {
      "cell_type": "markdown",
      "metadata": {
        "id": "CST7SHjbiMCw",
        "colab_type": "text"
      },
      "source": [
        "p value is greater than alpha thus lack of significant evidence, we fail to reject the null hypothesis with 95% confidence."
      ]
    },
    {
      "cell_type": "markdown",
      "metadata": {
        "id": "_LjSiv8NkXve",
        "colab_type": "text"
      },
      "source": [
        "- Test 5: Does the bank that a customer gets a loan from influence their loan default behaviour?\n",
        "1. H0: There is no association between the bank name and the good_bad_flag variables\n",
        "2. H1:  There is an association between the bank name and the good_bad_flag variables"
      ]
    },
    {
      "cell_type": "code",
      "metadata": {
        "id": "lu9mgOAnWeJD",
        "colab_type": "code",
        "colab": {
          "base_uri": "https://localhost:8080/",
          "height": 150
        },
        "outputId": "c00775a0-fa7f-4709-9a71-911b377f0e26"
      },
      "source": [
        "table_bank = pd.crosstab(sample_df['good_bad_flag'], sample_df['bank_name_clients'])\n",
        "table_bank"
      ],
      "execution_count": null,
      "outputs": [
        {
          "output_type": "execute_result",
          "data": {
            "text/html": [
              "<div>\n",
              "<style scoped>\n",
              "    .dataframe tbody tr th:only-of-type {\n",
              "        vertical-align: middle;\n",
              "    }\n",
              "\n",
              "    .dataframe tbody tr th {\n",
              "        vertical-align: top;\n",
              "    }\n",
              "\n",
              "    .dataframe thead th {\n",
              "        text-align: right;\n",
              "    }\n",
              "</style>\n",
              "<table border=\"1\" class=\"dataframe\">\n",
              "  <thead>\n",
              "    <tr style=\"text-align: right;\">\n",
              "      <th>bank_name_clients</th>\n",
              "      <th>Access Bank</th>\n",
              "      <th>Diamond Bank</th>\n",
              "      <th>EcoBank</th>\n",
              "      <th>FCMB</th>\n",
              "      <th>Fidelity Bank</th>\n",
              "      <th>First Bank</th>\n",
              "      <th>GT Bank</th>\n",
              "      <th>Heritage Bank</th>\n",
              "      <th>Keystone Bank</th>\n",
              "      <th>Skye Bank</th>\n",
              "      <th>Stanbic IBTC</th>\n",
              "      <th>Standard Chartered</th>\n",
              "      <th>Sterling Bank</th>\n",
              "      <th>UBA</th>\n",
              "      <th>Unity Bank</th>\n",
              "      <th>Wema Bank</th>\n",
              "      <th>Zenith Bank</th>\n",
              "    </tr>\n",
              "    <tr>\n",
              "      <th>good_bad_flag</th>\n",
              "      <th></th>\n",
              "      <th></th>\n",
              "      <th></th>\n",
              "      <th></th>\n",
              "      <th></th>\n",
              "      <th></th>\n",
              "      <th></th>\n",
              "      <th></th>\n",
              "      <th></th>\n",
              "      <th></th>\n",
              "      <th></th>\n",
              "      <th></th>\n",
              "      <th></th>\n",
              "      <th></th>\n",
              "      <th></th>\n",
              "      <th></th>\n",
              "      <th></th>\n",
              "    </tr>\n",
              "  </thead>\n",
              "  <tbody>\n",
              "    <tr>\n",
              "      <th>0.0</th>\n",
              "      <td>10</td>\n",
              "      <td>1</td>\n",
              "      <td>5</td>\n",
              "      <td>1</td>\n",
              "      <td>0</td>\n",
              "      <td>13</td>\n",
              "      <td>33</td>\n",
              "      <td>0</td>\n",
              "      <td>1</td>\n",
              "      <td>5</td>\n",
              "      <td>1</td>\n",
              "      <td>1</td>\n",
              "      <td>3</td>\n",
              "      <td>5</td>\n",
              "      <td>0</td>\n",
              "      <td>0</td>\n",
              "      <td>8</td>\n",
              "    </tr>\n",
              "    <tr>\n",
              "      <th>1.0</th>\n",
              "      <td>29</td>\n",
              "      <td>23</td>\n",
              "      <td>5</td>\n",
              "      <td>6</td>\n",
              "      <td>7</td>\n",
              "      <td>28</td>\n",
              "      <td>92</td>\n",
              "      <td>1</td>\n",
              "      <td>1</td>\n",
              "      <td>10</td>\n",
              "      <td>8</td>\n",
              "      <td>2</td>\n",
              "      <td>3</td>\n",
              "      <td>22</td>\n",
              "      <td>1</td>\n",
              "      <td>4</td>\n",
              "      <td>25</td>\n",
              "    </tr>\n",
              "  </tbody>\n",
              "</table>\n",
              "</div>"
            ],
            "text/plain": [
              "bank_name_clients  Access Bank  Diamond Bank  ...  Wema Bank  Zenith Bank\n",
              "good_bad_flag                                 ...                        \n",
              "0.0                         10             1  ...          0            8\n",
              "1.0                         29            23  ...          4           25\n",
              "\n",
              "[2 rows x 17 columns]"
            ]
          },
          "metadata": {
            "tags": []
          },
          "execution_count": 68
        }
      ]
    },
    {
      "cell_type": "code",
      "metadata": {
        "id": "9__YvNbeldPr",
        "colab_type": "code",
        "colab": {
          "base_uri": "https://localhost:8080/",
          "height": 33
        },
        "outputId": "e8ed41b5-5bbc-4721-edfe-63f8bc8ecd1d"
      },
      "source": [
        "# Perform a chi-square test with alpha 0.05\n",
        "from scipy.stats import chi2_contingency\n",
        "from scipy.stats import chi2\n",
        "\n",
        "stat, p, dof, expected = chi2_contingency(table_bank.to_numpy())\n",
        "\n",
        "#Calculate critical value, set significance level to 0.05\n",
        "prob = 0.95\n",
        "critical_value = chi2.ppf(prob, dof)\n",
        "\n",
        "print(f'Critical value: {critical_value}, test_statistic: {stat}, alpha: {1-prob}, p_value: {p}')"
      ],
      "execution_count": null,
      "outputs": [
        {
          "output_type": "stream",
          "text": [
            "Critical value: 26.29622760486423, test_statistic: 19.84023065582578, alpha: 0.050000000000000044, p_value: 0.22750296825965244\n"
          ],
          "name": "stdout"
        }
      ]
    },
    {
      "cell_type": "markdown",
      "metadata": {
        "id": "VzYLVgX2lk8z",
        "colab_type": "text"
      },
      "source": [
        "p value is greater than the alpha thus lack of significant evidence, we fail to reject the null hypothesis with 95% confidence."
      ]
    },
    {
      "cell_type": "markdown",
      "metadata": {
        "id": "iM385ZLAmLEe",
        "colab_type": "text"
      },
      "source": [
        "- Test 6: Does the bank account type that a customer has influence their loan default behaviour?\n",
        "1. H0: There is no association between the bank account type and the good_bad_flag variables\n",
        "2. H1:  There is an association between the bank account type and the good_bad_flag variables"
      ]
    },
    {
      "cell_type": "code",
      "metadata": {
        "id": "hBrCGBdlGGY2",
        "colab_type": "code",
        "colab": {
          "base_uri": "https://localhost:8080/",
          "height": 133
        },
        "outputId": "bddf62ae-7edf-4ab5-8b94-62b1c9750227"
      },
      "source": [
        "table_account = pd.crosstab(sample_df['good_bad_flag'], sample_df['bank_account_type'])\n",
        "table_account"
      ],
      "execution_count": null,
      "outputs": [
        {
          "output_type": "execute_result",
          "data": {
            "text/html": [
              "<div>\n",
              "<style scoped>\n",
              "    .dataframe tbody tr th:only-of-type {\n",
              "        vertical-align: middle;\n",
              "    }\n",
              "\n",
              "    .dataframe tbody tr th {\n",
              "        vertical-align: top;\n",
              "    }\n",
              "\n",
              "    .dataframe thead th {\n",
              "        text-align: right;\n",
              "    }\n",
              "</style>\n",
              "<table border=\"1\" class=\"dataframe\">\n",
              "  <thead>\n",
              "    <tr style=\"text-align: right;\">\n",
              "      <th>bank_account_type</th>\n",
              "      <th>Current</th>\n",
              "      <th>Other</th>\n",
              "      <th>Savings</th>\n",
              "    </tr>\n",
              "    <tr>\n",
              "      <th>good_bad_flag</th>\n",
              "      <th></th>\n",
              "      <th></th>\n",
              "      <th></th>\n",
              "    </tr>\n",
              "  </thead>\n",
              "  <tbody>\n",
              "    <tr>\n",
              "      <th>0.0</th>\n",
              "      <td>3</td>\n",
              "      <td>12</td>\n",
              "      <td>72</td>\n",
              "    </tr>\n",
              "    <tr>\n",
              "      <th>1.0</th>\n",
              "      <td>7</td>\n",
              "      <td>56</td>\n",
              "      <td>204</td>\n",
              "    </tr>\n",
              "  </tbody>\n",
              "</table>\n",
              "</div>"
            ],
            "text/plain": [
              "bank_account_type  Current  Other  Savings\n",
              "good_bad_flag                             \n",
              "0.0                      3     12       72\n",
              "1.0                      7     56      204"
            ]
          },
          "metadata": {
            "tags": []
          },
          "execution_count": 70
        }
      ]
    },
    {
      "cell_type": "code",
      "metadata": {
        "id": "G2j-bQVOm3Hn",
        "colab_type": "code",
        "colab": {
          "base_uri": "https://localhost:8080/",
          "height": 33
        },
        "outputId": "b6e9a4de-0fec-410b-a994-27c7b12021ef"
      },
      "source": [
        "# Perform a chi-square test with alpha 0.05\n",
        "from scipy.stats import chi2_contingency\n",
        "from scipy.stats import chi2\n",
        "\n",
        "stat, p, dof, expected = chi2_contingency(table_account.to_numpy())\n",
        "\n",
        "#Calculate critical value, set significance level to 0.05\n",
        "prob = 0.95\n",
        "critical_value = chi2.ppf(prob, dof)\n",
        "\n",
        "print(f'Critical value: {critical_value}, test_statistic: {stat}, alpha: {1-prob}, p_value: {p}')"
      ],
      "execution_count": null,
      "outputs": [
        {
          "output_type": "stream",
          "text": [
            "Critical value: 5.991464547107979, test_statistic: 2.259884201983607, alpha: 0.050000000000000044, p_value: 0.3230519602688761\n"
          ],
          "name": "stdout"
        }
      ]
    },
    {
      "cell_type": "markdown",
      "metadata": {
        "colab_type": "text",
        "id": "oGA60VXGXEkv"
      },
      "source": [
        "p value is greater than the alpha thus lack of significant evidence, we fail to reject the null hypothesis with 95% confidence."
      ]
    },
    {
      "cell_type": "markdown",
      "metadata": {
        "id": "AIOyEXtPoIyu",
        "colab_type": "text"
      },
      "source": [
        "- Test 7: Does the employment status of a customer influence their loan default behaviour?\n",
        "1. H0: There is no association between the employment status and the good_bad_flag variables\n",
        "2. H1:  There is an association between the employment status and the good_bad_flag variables"
      ]
    },
    {
      "cell_type": "code",
      "metadata": {
        "id": "qNhZU82SXctW",
        "colab_type": "code",
        "colab": {}
      },
      "source": [
        "sample2 = hypothesis_df.sample(354)"
      ],
      "execution_count": null,
      "outputs": []
    },
    {
      "cell_type": "code",
      "metadata": {
        "id": "gVfAfI3MGGTn",
        "colab_type": "code",
        "colab": {
          "base_uri": "https://localhost:8080/",
          "height": 133
        },
        "outputId": "dea4ff0b-a4d0-4ec8-ec44-b771ec9ea32e"
      },
      "source": [
        "table_employment = pd.crosstab(sample2['good_bad_flag'], sample2['employment_status_clients'])\n",
        "table_employment"
      ],
      "execution_count": null,
      "outputs": [
        {
          "output_type": "execute_result",
          "data": {
            "text/html": [
              "<div>\n",
              "<style scoped>\n",
              "    .dataframe tbody tr th:only-of-type {\n",
              "        vertical-align: middle;\n",
              "    }\n",
              "\n",
              "    .dataframe tbody tr th {\n",
              "        vertical-align: top;\n",
              "    }\n",
              "\n",
              "    .dataframe thead th {\n",
              "        text-align: right;\n",
              "    }\n",
              "</style>\n",
              "<table border=\"1\" class=\"dataframe\">\n",
              "  <thead>\n",
              "    <tr style=\"text-align: right;\">\n",
              "      <th>employment_status_clients</th>\n",
              "      <th>Permanent</th>\n",
              "      <th>Retired</th>\n",
              "      <th>Self-Employed</th>\n",
              "      <th>Student</th>\n",
              "      <th>Unemployed</th>\n",
              "      <th>Unknown</th>\n",
              "    </tr>\n",
              "    <tr>\n",
              "      <th>good_bad_flag</th>\n",
              "      <th></th>\n",
              "      <th></th>\n",
              "      <th></th>\n",
              "      <th></th>\n",
              "      <th></th>\n",
              "      <th></th>\n",
              "    </tr>\n",
              "  </thead>\n",
              "  <tbody>\n",
              "    <tr>\n",
              "      <th>0.0</th>\n",
              "      <td>59</td>\n",
              "      <td>1</td>\n",
              "      <td>5</td>\n",
              "      <td>2</td>\n",
              "      <td>0</td>\n",
              "      <td>15</td>\n",
              "    </tr>\n",
              "    <tr>\n",
              "      <th>1.0</th>\n",
              "      <td>196</td>\n",
              "      <td>0</td>\n",
              "      <td>25</td>\n",
              "      <td>12</td>\n",
              "      <td>2</td>\n",
              "      <td>37</td>\n",
              "    </tr>\n",
              "  </tbody>\n",
              "</table>\n",
              "</div>"
            ],
            "text/plain": [
              "employment_status_clients  Permanent  Retired  ...  Unemployed  Unknown\n",
              "good_bad_flag                                  ...                     \n",
              "0.0                               59        1  ...           0       15\n",
              "1.0                              196        0  ...           2       37\n",
              "\n",
              "[2 rows x 6 columns]"
            ]
          },
          "metadata": {
            "tags": []
          },
          "execution_count": 73
        }
      ]
    },
    {
      "cell_type": "code",
      "metadata": {
        "id": "N5s6VG41o12s",
        "colab_type": "code",
        "colab": {
          "base_uri": "https://localhost:8080/",
          "height": 33
        },
        "outputId": "e3eb7e0b-694e-48e8-ff76-a3f56bcab009"
      },
      "source": [
        "# Perform a chi-square test with alpha 0.05\n",
        "from scipy.stats import chi2_contingency\n",
        "from scipy.stats import chi2\n",
        "\n",
        "stat, p, dof, expected = chi2_contingency(table_employment.to_numpy())\n",
        "\n",
        "#Calculate critical value, set significance level to 0.05\n",
        "prob = 0.95\n",
        "critical_value = chi2.ppf(prob, dof)\n",
        "\n",
        "print(f'Critical value: {critical_value}, test_statistic: {stat}, alpha: {1-prob}, p_value: {p}')"
      ],
      "execution_count": null,
      "outputs": [
        {
          "output_type": "stream",
          "text": [
            "Critical value: 11.070497693516351, test_statistic: 6.195010875170066, alpha: 0.050000000000000044, p_value: 0.28770339138551476\n"
          ],
          "name": "stdout"
        }
      ]
    },
    {
      "cell_type": "markdown",
      "metadata": {
        "id": "NjCCIx6Zrfjb",
        "colab_type": "text"
      },
      "source": [
        "p-value is greater than alpha thus lack of significant evidence, we fail to reject the null hypothesis with 95% confidence."
      ]
    },
    {
      "cell_type": "code",
      "metadata": {
        "id": "Jx7kPQ3zGGQ8",
        "colab_type": "code",
        "colab": {}
      },
      "source": [
        "#Assigning categories to referred by column\n",
        "hypothesis_df['referredby'] = np.where(hypothesis_df['referredby'].isin(hypothesis_df['referredby'].loc[~hypothesis_df['referredby'].isnull()]), 'referred','not reffered')"
      ],
      "execution_count": null,
      "outputs": []
    },
    {
      "cell_type": "code",
      "metadata": {
        "id": "RgXPH18KGGO6",
        "colab_type": "code",
        "colab": {}
      },
      "source": [
        "sample_df = hypothesis_df.sample(354)"
      ],
      "execution_count": null,
      "outputs": []
    },
    {
      "cell_type": "markdown",
      "metadata": {
        "id": "itgu1WIfu5fg",
        "colab_type": "text"
      },
      "source": [
        "- Test 8: Does whether a customer is reffered or not influence their default behaviour?\n",
        "1. H0: No association between reffered by and good_bad_flag variables\n",
        "2. H1: There is an association between reffered by and good_bad_flag variables"
      ]
    },
    {
      "cell_type": "code",
      "metadata": {
        "id": "SMsPGU9EGGMT",
        "colab_type": "code",
        "colab": {
          "base_uri": "https://localhost:8080/",
          "height": 133
        },
        "outputId": "1262d536-b048-48b3-8d37-0e2e1882d0b2"
      },
      "source": [
        "table_referred = pd.crosstab(sample_df['good_bad_flag'], sample_df['referredby'])\n",
        "table_referred"
      ],
      "execution_count": null,
      "outputs": [
        {
          "output_type": "execute_result",
          "data": {
            "text/html": [
              "<div>\n",
              "<style scoped>\n",
              "    .dataframe tbody tr th:only-of-type {\n",
              "        vertical-align: middle;\n",
              "    }\n",
              "\n",
              "    .dataframe tbody tr th {\n",
              "        vertical-align: top;\n",
              "    }\n",
              "\n",
              "    .dataframe thead th {\n",
              "        text-align: right;\n",
              "    }\n",
              "</style>\n",
              "<table border=\"1\" class=\"dataframe\">\n",
              "  <thead>\n",
              "    <tr style=\"text-align: right;\">\n",
              "      <th>referredby</th>\n",
              "      <th>not reffered</th>\n",
              "      <th>referred</th>\n",
              "    </tr>\n",
              "    <tr>\n",
              "      <th>good_bad_flag</th>\n",
              "      <th></th>\n",
              "      <th></th>\n",
              "    </tr>\n",
              "  </thead>\n",
              "  <tbody>\n",
              "    <tr>\n",
              "      <th>0.0</th>\n",
              "      <td>77</td>\n",
              "      <td>8</td>\n",
              "    </tr>\n",
              "    <tr>\n",
              "      <th>1.0</th>\n",
              "      <td>238</td>\n",
              "      <td>31</td>\n",
              "    </tr>\n",
              "  </tbody>\n",
              "</table>\n",
              "</div>"
            ],
            "text/plain": [
              "referredby     not reffered  referred\n",
              "good_bad_flag                        \n",
              "0.0                      77         8\n",
              "1.0                     238        31"
            ]
          },
          "metadata": {
            "tags": []
          },
          "execution_count": 77
        }
      ]
    },
    {
      "cell_type": "code",
      "metadata": {
        "id": "GoCUSambua9C",
        "colab_type": "code",
        "colab": {
          "base_uri": "https://localhost:8080/",
          "height": 33
        },
        "outputId": "afcdd3e3-68b6-4410-80a1-d7342f70a2c1"
      },
      "source": [
        "# Perform a chi-square test with alpha 0.05\n",
        "from scipy.stats import chi2_contingency\n",
        "from scipy.stats import chi2\n",
        "\n",
        "stat, p, dof, expected = chi2_contingency(table_referred.to_numpy())\n",
        "\n",
        "#Calculate critical value, set significance level to 0.05\n",
        "prob = 0.95\n",
        "critical_value = chi2.ppf(prob, dof)\n",
        "\n",
        "print(f'Critical value: {critical_value}, test_statistic: {stat}, alpha: {1-prob}, p_value: {p}')"
      ],
      "execution_count": null,
      "outputs": [
        {
          "output_type": "stream",
          "text": [
            "Critical value: 3.841458820694124, test_statistic: 0.11800482045835192, alpha: 0.050000000000000044, p_value: 0.7312085782483395\n"
          ],
          "name": "stdout"
        }
      ]
    },
    {
      "cell_type": "markdown",
      "metadata": {
        "colab_type": "text",
        "id": "cUH9P0crYOq8"
      },
      "source": [
        "p value is greater than the alpha thus lack of significant evidence, we fail to reject the null hypothesis with 95% confidence."
      ]
    },
    {
      "cell_type": "markdown",
      "metadata": {
        "id": "hhAe-fKOjeAF",
        "colab_type": "text"
      },
      "source": [
        "## Modelling"
      ]
    },
    {
      "cell_type": "code",
      "metadata": {
        "id": "QjQT0g81GGEF",
        "colab_type": "code",
        "colab": {
          "base_uri": "https://localhost:8080/",
          "height": 153
        },
        "outputId": "8e0aa7cf-4b79-4ff2-db51-08b000217c87"
      },
      "source": [
        "final_df.head(3)"
      ],
      "execution_count": null,
      "outputs": [
        {
          "output_type": "execute_result",
          "data": {
            "text/html": [
              "<div>\n",
              "<style scoped>\n",
              "    .dataframe tbody tr th:only-of-type {\n",
              "        vertical-align: middle;\n",
              "    }\n",
              "\n",
              "    .dataframe tbody tr th {\n",
              "        vertical-align: top;\n",
              "    }\n",
              "\n",
              "    .dataframe thead th {\n",
              "        text-align: right;\n",
              "    }\n",
              "</style>\n",
              "<table border=\"1\" class=\"dataframe\">\n",
              "  <thead>\n",
              "    <tr style=\"text-align: right;\">\n",
              "      <th></th>\n",
              "      <th>customerid</th>\n",
              "      <th>age</th>\n",
              "      <th>bank_name_clients</th>\n",
              "      <th>bank_account_type</th>\n",
              "      <th>bank_branch_clients</th>\n",
              "      <th>longitude_gps</th>\n",
              "      <th>latitude_gps</th>\n",
              "      <th>employment_status_clients</th>\n",
              "      <th>loanapproval</th>\n",
              "      <th>num_loans</th>\n",
              "      <th>average_loanamount</th>\n",
              "      <th>average_termdays</th>\n",
              "      <th>average_diff</th>\n",
              "      <th>average_totaldue</th>\n",
              "      <th>referredby</th>\n",
              "      <th>good_bad_flag</th>\n",
              "      <th>set</th>\n",
              "    </tr>\n",
              "  </thead>\n",
              "  <tbody>\n",
              "    <tr>\n",
              "      <th>0</th>\n",
              "      <td>8a858e135cb22031015cbafc76964ebd</td>\n",
              "      <td>47.0</td>\n",
              "      <td>GT Bank</td>\n",
              "      <td>Savings</td>\n",
              "      <td>Unknown</td>\n",
              "      <td>3.319219</td>\n",
              "      <td>6.528604</td>\n",
              "      <td>Unknown</td>\n",
              "      <td>1.018611</td>\n",
              "      <td>1.0</td>\n",
              "      <td>10000.0</td>\n",
              "      <td>15.0</td>\n",
              "      <td>-1.000000</td>\n",
              "      <td>11500.0</td>\n",
              "      <td>8a858899538ddb8e0153a780c56e34bb</td>\n",
              "      <td>1</td>\n",
              "      <td>train</td>\n",
              "    </tr>\n",
              "    <tr>\n",
              "      <th>1</th>\n",
              "      <td>8a858e275c7ea5ec015c82482d7c3996</td>\n",
              "      <td>35.0</td>\n",
              "      <td>Sterling Bank</td>\n",
              "      <td>Savings</td>\n",
              "      <td>Unknown</td>\n",
              "      <td>3.325598</td>\n",
              "      <td>7.119403</td>\n",
              "      <td>Permanent</td>\n",
              "      <td>1.018889</td>\n",
              "      <td>1.0</td>\n",
              "      <td>10000.0</td>\n",
              "      <td>30.0</td>\n",
              "      <td>3.000000</td>\n",
              "      <td>13000.0</td>\n",
              "      <td>NaN</td>\n",
              "      <td>0</td>\n",
              "      <td>train</td>\n",
              "    </tr>\n",
              "    <tr>\n",
              "      <th>2</th>\n",
              "      <td>8a858e5b5bd99460015bdc95cd485634</td>\n",
              "      <td>33.0</td>\n",
              "      <td>Fidelity Bank</td>\n",
              "      <td>Savings</td>\n",
              "      <td>Unknown</td>\n",
              "      <td>5.746100</td>\n",
              "      <td>5.563174</td>\n",
              "      <td>Unknown</td>\n",
              "      <td>1.001944</td>\n",
              "      <td>3.0</td>\n",
              "      <td>10000.0</td>\n",
              "      <td>20.0</td>\n",
              "      <td>0.333333</td>\n",
              "      <td>12000.0</td>\n",
              "      <td>NaN</td>\n",
              "      <td>1</td>\n",
              "      <td>train</td>\n",
              "    </tr>\n",
              "  </tbody>\n",
              "</table>\n",
              "</div>"
            ],
            "text/plain": [
              "                         customerid   age  ... good_bad_flag    set\n",
              "0  8a858e135cb22031015cbafc76964ebd  47.0  ...             1  train\n",
              "1  8a858e275c7ea5ec015c82482d7c3996  35.0  ...             0  train\n",
              "2  8a858e5b5bd99460015bdc95cd485634  33.0  ...             1  train\n",
              "\n",
              "[3 rows x 17 columns]"
            ]
          },
          "metadata": {
            "tags": []
          },
          "execution_count": 79
        }
      ]
    },
    {
      "cell_type": "code",
      "metadata": {
        "id": "Te5K779eGGBW",
        "colab_type": "code",
        "colab": {}
      },
      "source": [
        "#Assigning categories to referred by column\n",
        "final_df['referredby'] = np.where(final_df['referredby'].isin(final_df['referredby'].loc[~final_df['referredby'].isnull()]), 'referred','not reffered')"
      ],
      "execution_count": null,
      "outputs": []
    },
    {
      "cell_type": "code",
      "metadata": {
        "id": "MZSEIoT6jpMy",
        "colab_type": "code",
        "colab": {}
      },
      "source": [
        "# Split X and Y\n",
        "from sklearn.model_selection import train_test_split as tts\n",
        "train_data = final_df[final_df['set'] =='train']\n",
        "test_data = final_df[final_df['set'] == 'test']\n",
        "\n",
        "X = train_data.loc[:, train_data.columns != 'good_bad_flag']\n",
        "Y = train_data['good_bad_flag'].astype(np.int64)\n",
        "\n",
        "to_drop = ['customerid','bank_name_clients','bank_branch_clients', 'set']\n",
        "X.drop(to_drop, axis=1, inplace=True)\n",
        "\n",
        "num_var = X.select_dtypes(include=['float64']).columns\n",
        "num_data = X[num_var]\n",
        "\n",
        "obj_var = X.select_dtypes(include=['object']).columns\n",
        "obj_data = X[obj_var]\n",
        "\n",
        "# Scale numerical features\n",
        "from sklearn.preprocessing import StandardScaler\n",
        "scaler = StandardScaler().fit(num_data)\n",
        "num_data = scaler.transform(num_data)\n",
        "\n",
        "# Encode categorical features\n",
        "obj_data = pd.get_dummies(obj_data)\n",
        "\n",
        "#Concatenate scaled and encoded features\n",
        "X = np.concatenate((num_data, obj_data.to_numpy(dtype=np.float64)), axis=1)\n",
        "\n",
        "x_train, x_test, y_train, y_test = tts(X, Y, test_size = 0.3, random_state=1)"
      ],
      "execution_count": null,
      "outputs": []
    },
    {
      "cell_type": "code",
      "metadata": {
        "id": "87GwLrY6GF_L",
        "colab_type": "code",
        "colab": {
          "base_uri": "https://localhost:8080/",
          "height": 33
        },
        "outputId": "88ab85d4-4b8c-4d62-9939-dab64cf39063"
      },
      "source": [
        "print(x_train.shape, x_test.shape)"
      ],
      "execution_count": null,
      "outputs": [
        {
          "output_type": "stream",
          "text": [
            "(3057, 21) (1311, 21)\n"
          ],
          "name": "stdout"
        }
      ]
    },
    {
      "cell_type": "code",
      "metadata": {
        "id": "N7Yb9k0W5QWD",
        "colab_type": "code",
        "colab": {}
      },
      "source": [
        "# Load models\n",
        "from sklearn.naive_bayes import GaussianNB\n",
        "from sklearn.svm import SVC\n",
        "from sklearn.ensemble import RandomForestClassifier\n",
        "from xgboost import XGBClassifier"
      ],
      "execution_count": null,
      "outputs": []
    },
    {
      "cell_type": "code",
      "metadata": {
        "id": "p3OyS3_jGF4I",
        "colab_type": "code",
        "colab": {}
      },
      "source": [
        "#fitting models\n",
        "naive_bayes = GaussianNB().fit(x_train, y_train)\n",
        "support_vector = SVC().fit(x_train, y_train)\n",
        "random_forest = RandomForestClassifier().fit(x_train,y_train)\n",
        "xgboost = XGBClassifier().fit(x_train, y_train)"
      ],
      "execution_count": null,
      "outputs": []
    },
    {
      "cell_type": "code",
      "metadata": {
        "id": "u_PPP1lJZEtl",
        "colab_type": "code",
        "colab": {}
      },
      "source": [
        "#Prediction\n",
        "y_pred_bayes = naive_bayes.predict(x_test)\n",
        "y_pred_svc = support_vector.predict(x_test)\n",
        "y_pred_forest = random_forest.predict(x_test)\n",
        "y_pred_xgb = xgboost.predict(x_test)"
      ],
      "execution_count": null,
      "outputs": []
    },
    {
      "cell_type": "markdown",
      "metadata": {
        "colab_type": "text",
        "id": "ztP3xg1vZwq8"
      },
      "source": [
        "## Evaluation"
      ]
    },
    {
      "cell_type": "code",
      "metadata": {
        "id": "sIYvX1g2ZK6r",
        "colab_type": "code",
        "colab": {
          "base_uri": "https://localhost:8080/",
          "height": 82
        },
        "outputId": "ebd341cd-c4f6-461c-95de-7d6679e48860"
      },
      "source": [
        "#Import scikit-learn metrics module for accuracy calculation\n",
        "from sklearn import metrics\n",
        "\n",
        "# Model Accuracy, how often is the classifier correct?\n",
        "print(\" Naive Bayes accuracy:\",metrics.accuracy_score(y_test, y_pred_bayes))\n",
        "print(\" Support Vector Machine accuracy:\",metrics.accuracy_score(y_test, y_pred_svc))\n",
        "print(\" Random Forest accuracy:\",metrics.accuracy_score(y_test, y_pred_forest))\n",
        "print(\" XGBoost accuracy:\",metrics.accuracy_score(y_test, y_pred_xgb))"
      ],
      "execution_count": null,
      "outputs": [
        {
          "output_type": "stream",
          "text": [
            " Naive Bayes accuracy: 0.2997711670480549\n",
            " Support Vector Machine accuracy: 0.7978642257818459\n",
            " Random Forest accuracy: 0.7909992372234935\n",
            " XGBoost accuracy: 0.7993897787948131\n"
          ],
          "name": "stdout"
        }
      ]
    },
    {
      "cell_type": "code",
      "metadata": {
        "id": "G4yVJ5buk3CB",
        "colab_type": "code",
        "colab": {
          "base_uri": "https://localhost:8080/",
          "height": 667
        },
        "outputId": "348984ae-8442-406b-d193-9482cd15d66a"
      },
      "source": [
        "from sklearn.metrics import classification_report\n",
        "print(\" Naive Bayes accuracy: \\n\",classification_report(y_test, y_pred_bayes))\n",
        "print(\" Support Vector Machine accuracy \\n:\",classification_report(y_test, y_pred_svc))\n",
        "print(\" Random Forest accuracy: \\n\",classification_report(y_test, y_pred_forest))\n",
        "print(\" XGBoost accuracy: \\n\",classification_report(y_test, y_pred_xgb))\n",
        "\n",
        "\n"
      ],
      "execution_count": null,
      "outputs": [
        {
          "output_type": "stream",
          "text": [
            " Naive Bayes accuracy: \n",
            "               precision    recall  f1-score   support\n",
            "\n",
            "           0       0.22      0.90      0.36       281\n",
            "           1       0.83      0.14      0.23      1030\n",
            "\n",
            "    accuracy                           0.30      1311\n",
            "   macro avg       0.53      0.52      0.29      1311\n",
            "weighted avg       0.70      0.30      0.26      1311\n",
            "\n",
            " Support Vector Machine accuracy \n",
            ":               precision    recall  f1-score   support\n",
            "\n",
            "           0       0.71      0.10      0.17       281\n",
            "           1       0.80      0.99      0.88      1030\n",
            "\n",
            "    accuracy                           0.80      1311\n",
            "   macro avg       0.76      0.54      0.53      1311\n",
            "weighted avg       0.78      0.80      0.73      1311\n",
            "\n",
            " Random Forest accuracy: \n",
            "               precision    recall  f1-score   support\n",
            "\n",
            "           0       0.53      0.20      0.29       281\n",
            "           1       0.81      0.95      0.88      1030\n",
            "\n",
            "    accuracy                           0.79      1311\n",
            "   macro avg       0.67      0.58      0.59      1311\n",
            "weighted avg       0.75      0.79      0.75      1311\n",
            "\n",
            " XGBoost accuracy: \n",
            "               precision    recall  f1-score   support\n",
            "\n",
            "           0       0.58      0.23      0.33       281\n",
            "           1       0.82      0.95      0.88      1030\n",
            "\n",
            "    accuracy                           0.80      1311\n",
            "   macro avg       0.70      0.59      0.61      1311\n",
            "weighted avg       0.77      0.80      0.76      1311\n",
            "\n"
          ],
          "name": "stdout"
        }
      ]
    },
    {
      "cell_type": "code",
      "metadata": {
        "id": "ZUNl6dYslqT_",
        "colab_type": "code",
        "colab": {}
      },
      "source": [
        ""
      ],
      "execution_count": null,
      "outputs": []
    },
    {
      "cell_type": "markdown",
      "metadata": {
        "id": "vrBgU6Ugrl_B",
        "colab_type": "text"
      },
      "source": [
        "### Imbalanced Classification"
      ]
    },
    {
      "cell_type": "code",
      "metadata": {
        "id": "5wRaLNjwsbx5",
        "colab_type": "code",
        "colab": {
          "base_uri": "https://localhost:8080/",
          "height": 66
        },
        "outputId": "308047d6-cfc2-4b86-895f-e6d87fe6d27b"
      },
      "source": [
        "train_data.good_bad_flag.value_counts(normalize=True) * 100"
      ],
      "execution_count": null,
      "outputs": [
        {
          "output_type": "execute_result",
          "data": {
            "text/plain": [
              "1.0    78.205128\n",
              "0.0    21.794872\n",
              "Name: good_bad_flag, dtype: float64"
            ]
          },
          "metadata": {
            "tags": []
          },
          "execution_count": 92
        }
      ]
    },
    {
      "cell_type": "code",
      "metadata": {
        "id": "LD44vi_onBIV",
        "colab_type": "code",
        "colab": {
          "base_uri": "https://localhost:8080/",
          "height": 513
        },
        "outputId": "ddee4bb5-961a-4516-ee6a-916977cb34f0"
      },
      "source": [
        "# Investigate distribution of target variable\n",
        "plt.figure(figsize=(10.0, 8.0))\n",
        "sns.countplot(x='good_bad_flag', data=train_data)"
      ],
      "execution_count": null,
      "outputs": [
        {
          "output_type": "execute_result",
          "data": {
            "text/plain": [
              "<matplotlib.axes._subplots.AxesSubplot at 0x7f696485c780>"
            ]
          },
          "metadata": {
            "tags": []
          },
          "execution_count": 91
        },
        {
          "output_type": "display_data",
          "data": {
            "image/png": "[encoded data removed]",
            "text/plain": [
              "<Figure size 720x576 with 1 Axes>"
            ]
          },
          "metadata": {
            "tags": [],
            "needs_background": "light"
          }
        }
      ]
    },
    {
      "cell_type": "markdown",
      "metadata": {
        "id": "wtxtSR0tru0x",
        "colab_type": "text"
      },
      "source": [
        "The target variable 'good_bad_flag' is quite imbalanced, with good loans having 78% of the data and the bad loans having 21% of the data."
      ]
    },
    {
      "cell_type": "code",
      "metadata": {
        "id": "bmBpEatcrsgD",
        "colab_type": "code",
        "colab": {}
      },
      "source": [
        "# Perform stratified sampling in the train test split\n",
        "\n",
        "x1_train, x1_test, y1_train, y1_test = tts(X, Y, test_size = 0.3, random_state=1, stratify=Y)"
      ],
      "execution_count": null,
      "outputs": []
    },
    {
      "cell_type": "code",
      "metadata": {
        "id": "0Hh0eoxTte9a",
        "colab_type": "code",
        "colab": {}
      },
      "source": [
        "# Load and fit better performing models\n",
        "\n",
        "support_vector = SVC(probability=True).fit(x1_train, y1_train)\n",
        "random_forest = RandomForestClassifier().fit(x1_train,y1_train)\n",
        "xgboost = XGBClassifier().fit(x1_train, y1_train)\n",
        "\n",
        "\n",
        "y_pred_svc = support_vector.predict(x1_test)\n",
        "y_pred_forest = random_forest.predict(x1_test)\n",
        "y_pred_xgb = xgboost.predict(x1_test)"
      ],
      "execution_count": null,
      "outputs": []
    },
    {
      "cell_type": "code",
      "metadata": {
        "id": "Kqk2jly1uQ_9",
        "colab_type": "code",
        "colab": {
          "base_uri": "https://localhost:8080/",
          "height": 66
        },
        "outputId": "2cc6c015-622e-4085-a89e-2e756724e27d"
      },
      "source": [
        "# Evaluate models\n",
        "\n",
        "print(\" Support Vector Machine accuracy:\",metrics.accuracy_score(y1_test, y_pred_svc))\n",
        "print(\" Random Forest accuracy:\",metrics.accuracy_score(y1_test, y_pred_forest))\n",
        "print(\" XGBoost accuracy:\",metrics.accuracy_score(y1_test, y_pred_xgb))"
      ],
      "execution_count": null,
      "outputs": [
        {
          "output_type": "stream",
          "text": [
            " Support Vector Machine accuracy: 0.7909992372234935\n",
            " Random Forest accuracy: 0.7917620137299771\n",
            " XGBoost accuracy: 0.7948131197559115\n"
          ],
          "name": "stdout"
        }
      ]
    },
    {
      "cell_type": "code",
      "metadata": {
        "id": "lMl_QZ5svXNM",
        "colab_type": "code",
        "colab": {}
      },
      "source": [
        "from sklearn.metrics import roc_auc_score\n",
        "\n",
        "y_prob_svc = support_vector.predict_proba(x1_test)\n",
        "y_prob_forest = random_forest.predict_proba(x1_test)\n",
        "y_prob_xgb = xgboost.predict_proba(x1_test)\n"
      ],
      "execution_count": null,
      "outputs": []
    },
    {
      "cell_type": "code",
      "metadata": {
        "id": "cFoO4jg0yq_k",
        "colab_type": "code",
        "colab": {
          "base_uri": "https://localhost:8080/",
          "height": 66
        },
        "outputId": "7d5b5986-1c64-4dba-a63a-0dd6a0cc4ccb"
      },
      "source": [
        "good_probs_svc = y_prob_svc[:, 1]\n",
        "bad_probs_svc = y_prob_svc[:, 0]\n",
        "# Prediction probabilties\n",
        "print('Support Vector Classifier: ')\n",
        "print(\"Good Loans: \", roc_auc_score(y1_test, good_probs_svc))\n",
        "print(\"Bad Loans: \", roc_auc_score(y1_test, bad_probs_svc))\n"
      ],
      "execution_count": null,
      "outputs": [
        {
          "output_type": "stream",
          "text": [
            "Support Vector Classifier: \n",
            "Good Loans:  0.6397032236056626\n",
            "Bad Loans:  0.3602967763943374\n"
          ],
          "name": "stdout"
        }
      ]
    },
    {
      "cell_type": "code",
      "metadata": {
        "id": "OtH6BGaI9F2X",
        "colab_type": "code",
        "colab": {
          "base_uri": "https://localhost:8080/",
          "height": 33
        },
        "outputId": "3038a964-22ee-4254-c25c-a4da4610c863"
      },
      "source": [
        "len(good_probs_svc)"
      ],
      "execution_count": null,
      "outputs": [
        {
          "output_type": "execute_result",
          "data": {
            "text/plain": [
              "1311"
            ]
          },
          "metadata": {
            "tags": []
          },
          "execution_count": 121
        }
      ]
    },
    {
      "cell_type": "code",
      "metadata": {
        "id": "wRxkxTJ10V5n",
        "colab_type": "code",
        "colab": {
          "base_uri": "https://localhost:8080/",
          "height": 66
        },
        "outputId": "94ddb060-16bf-4603-8727-96734a0381b4"
      },
      "source": [
        "good_probs_forest = y_prob_forest[:, 1]\n",
        "bad_probs_forest = y_prob_forest[:, 0]\n",
        "# Prediction probabilties\n",
        "print('Random Forest Classifier: ')\n",
        "print(\"Good Loans: \", roc_auc_score(y1_test, good_probs_forest))\n",
        "print(\"Bad Loans: \", roc_auc_score(y1_test, bad_probs_forest))\n"
      ],
      "execution_count": null,
      "outputs": [
        {
          "output_type": "stream",
          "text": [
            "Random Forest Classifier: \n",
            "Good Loans:  0.6516851441241686\n",
            "Bad Loans:  0.3483148558758315\n"
          ],
          "name": "stdout"
        }
      ]
    },
    {
      "cell_type": "code",
      "metadata": {
        "id": "yyDp3WPs0WOL",
        "colab_type": "code",
        "colab": {
          "base_uri": "https://localhost:8080/",
          "height": 66
        },
        "outputId": "015e92cd-eadd-46d6-e5cc-8540bd7ac73e"
      },
      "source": [
        "good_probs_xgb = y_prob_xgb[:, 1]\n",
        "bad_probs_xgb = y_prob_xgb[:, 0]\n",
        "# Prediction probabilties\n",
        "print('XGBoost Classifier: ')\n",
        "print(\"Good Loans: \", roc_auc_score(y1_test, good_probs_xgb))\n",
        "print(\"Bad Loans: \", roc_auc_score(y1_test, bad_probs_xgb))\n"
      ],
      "execution_count": null,
      "outputs": [
        {
          "output_type": "stream",
          "text": [
            "XGBoost Classifier: \n",
            "Good Loans:  0.6785502302575473\n",
            "Bad Loans:  0.3214497697424526\n"
          ],
          "name": "stdout"
        }
      ]
    },
    {
      "cell_type": "markdown",
      "metadata": {
        "id": "s66LXSVxvT4R",
        "colab_type": "text"
      },
      "source": [
        "### Upsample Minority Class"
      ]
    },
    {
      "cell_type": "code",
      "metadata": {
        "id": "bQ5gxXFJu10K",
        "colab_type": "code",
        "colab": {}
      },
      "source": [
        "from sklearn.utils import resample\n",
        "\n",
        "df_good = train_data[train_data['good_bad_flag'] == 1]\n",
        "df_bad = train_data[train_data['good_bad_flag'] == 0]"
      ],
      "execution_count": null,
      "outputs": []
    },
    {
      "cell_type": "code",
      "metadata": {
        "id": "3him78Jy1qwl",
        "colab_type": "code",
        "colab": {
          "base_uri": "https://localhost:8080/",
          "height": 50
        },
        "outputId": "c69f5cd2-28f7-4cf5-9464-71996dcf026b"
      },
      "source": [
        "# Check number of good loans\n",
        "df_good.good_bad_flag.value_counts()"
      ],
      "execution_count": null,
      "outputs": [
        {
          "output_type": "execute_result",
          "data": {
            "text/plain": [
              "1.0    3416\n",
              "Name: good_bad_flag, dtype: int64"
            ]
          },
          "metadata": {
            "tags": []
          },
          "execution_count": 113
        }
      ]
    },
    {
      "cell_type": "code",
      "metadata": {
        "id": "O75jDOAf18ab",
        "colab_type": "code",
        "colab": {}
      },
      "source": [
        "# Upsample minority class\n",
        "df_bad_upsampled = resample(df_bad, \n",
        "                                 replace=True,     # sample with replacement\n",
        "                                 n_samples=3416,    # to match majority class\n",
        "                                 random_state=24) # reproducible results"
      ],
      "execution_count": null,
      "outputs": []
    },
    {
      "cell_type": "code",
      "metadata": {
        "id": "Eja8syek2V-k",
        "colab_type": "code",
        "colab": {
          "base_uri": "https://localhost:8080/",
          "height": 66
        },
        "outputId": "96572eff-aad6-4c17-99aa-81a6208ade58"
      },
      "source": [
        "# Combine majority class with upsampled minority class\n",
        "train_data_upsampled = pd.concat([df_good, df_bad_upsampled])\n",
        " \n",
        "# Display new class counts\n",
        "train_data_upsampled.good_bad_flag.value_counts()"
      ],
      "execution_count": null,
      "outputs": [
        {
          "output_type": "execute_result",
          "data": {
            "text/plain": [
              "1.0    3416\n",
              "0.0    3416\n",
              "Name: good_bad_flag, dtype: int64"
            ]
          },
          "metadata": {
            "tags": []
          },
          "execution_count": 116
        }
      ]
    },
    {
      "cell_type": "code",
      "metadata": {
        "id": "JDL-IKDu2t0X",
        "colab_type": "code",
        "colab": {}
      },
      "source": [
        "X1 = train_data_upsampled.loc[:, train_data_upsampled.columns != 'good_bad_flag']\n",
        "Y1 = train_data_upsampled['good_bad_flag'].astype(np.int64)\n",
        "\n",
        "to_drop = ['customerid','bank_name_clients','bank_branch_clients', 'set']\n",
        "X1.drop(to_drop, axis=1, inplace=True)\n",
        "\n",
        "num_var1 = X1.select_dtypes(include=['float64']).columns\n",
        "num_data1 = X1[num_var1]\n",
        "\n",
        "obj_var1 = X1.select_dtypes(include=['object']).columns\n",
        "obj_data1 = X1[obj_var1]\n",
        "\n",
        "# Scale numerical features\n",
        "from sklearn.preprocessing import StandardScaler\n",
        "scaler = StandardScaler().fit(num_data1)\n",
        "num_data1 = scaler.transform(num_data1)\n",
        "\n",
        "# Encode categorical features\n",
        "obj_data1 = pd.get_dummies(obj_data1)\n",
        "\n",
        "#Concatenate scaled and encoded features\n",
        "X1 = np.concatenate((num_data1, obj_data1.to_numpy(dtype=np.float64)), axis=1)\n",
        "\n",
        "x2_train, x2_test, y2_train, y2_test = tts(X1, Y1, test_size = 0.3, random_state=1)"
      ],
      "execution_count": null,
      "outputs": []
    },
    {
      "cell_type": "code",
      "metadata": {
        "id": "FiS8l0xD3m6C",
        "colab_type": "code",
        "colab": {}
      },
      "source": [
        "support_vector = SVC(probability=True).fit(x2_train, y2_train)\n",
        "random_forest = RandomForestClassifier().fit(x2_train,y2_train)\n",
        "xgboost = XGBClassifier().fit(x2_train, y2_train)\n",
        "\n",
        "\n",
        "y_pred_svc = support_vector.predict(x2_test)\n",
        "y_pred_forest = random_forest.predict(x2_test)\n",
        "y_pred_xgb = xgboost.predict(x2_test)"
      ],
      "execution_count": null,
      "outputs": []
    },
    {
      "cell_type": "code",
      "metadata": {
        "id": "0iJQWZgy39PO",
        "colab_type": "code",
        "colab": {
          "base_uri": "https://localhost:8080/",
          "height": 66
        },
        "outputId": "9a36740f-74a9-472b-86e7-1b9cd7a015cd"
      },
      "source": [
        "# Evaluate models\n",
        "\n",
        "print(\" Support Vector Machine accuracy:\",metrics.accuracy_score(y2_test, y_pred_svc))\n",
        "print(\" Random Forest accuracy:\",metrics.accuracy_score(y2_test, y_pred_forest))\n",
        "print(\" XGBoost accuracy:\",metrics.accuracy_score(y2_test, y_pred_xgb))"
      ],
      "execution_count": null,
      "outputs": [
        {
          "output_type": "stream",
          "text": [
            " Support Vector Machine accuracy: 0.675609756097561\n",
            " Random Forest accuracy: 0.926829268292683\n",
            " XGBoost accuracy: 0.6946341463414634\n"
          ],
          "name": "stdout"
        }
      ]
    },
    {
      "cell_type": "code",
      "metadata": {
        "id": "Oe-nmORg4JPM",
        "colab_type": "code",
        "colab": {}
      },
      "source": [
        ""
      ],
      "execution_count": null,
      "outputs": []
    }
  ]
}